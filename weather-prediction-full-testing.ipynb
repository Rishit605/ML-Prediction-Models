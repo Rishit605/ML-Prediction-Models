{
 "cells": [
  {
   "cell_type": "code",
   "execution_count": 1,
   "id": "da163aa6",
   "metadata": {
    "_cell_guid": "b1076dfc-b9ad-4769-8c92-a6c4dae69d19",
    "_uuid": "8f2839f25d086af736a60e9eeb907d3b93b6e0e5",
    "execution": {
     "iopub.execute_input": "2023-08-13T11:24:24.052417Z",
     "iopub.status.busy": "2023-08-13T11:24:24.051888Z",
     "iopub.status.idle": "2023-08-13T11:24:24.068065Z",
     "shell.execute_reply": "2023-08-13T11:24:24.067234Z"
    },
    "papermill": {
     "duration": 0.025352,
     "end_time": "2023-08-13T11:24:24.069846",
     "exception": false,
     "start_time": "2023-08-13T11:24:24.044494",
     "status": "completed"
    },
    "tags": []
   },
   "outputs": [
    {
     "name": "stdout",
     "output_type": "stream",
     "text": [
      "/kaggle/input/weather-prediction/seattle-weather.csv\n"
     ]
    }
   ],
   "source": [
    "# This Python 3 environment comes with many helpful analytics libraries installed\n",
    "# It is defined by the kaggle/python Docker image: https://github.com/kaggle/docker-python\n",
    "# For example, here's several helpful packages to load\n",
    "\n",
    "import numpy as np # linear algebra\n",
    "import pandas as pd # data processing, CSV file I/O (e.g. pd.read_csv)\n",
    "\n",
    "# Input data files are available in the read-only \"../input/\" directory\n",
    "# For example, running this (by clicking run or pressing Shift+Enter) will list all files under the input directory\n",
    "\n",
    "import os\n",
    "for dirname, _, filenames in os.walk('/kaggle/input'):\n",
    "    for filename in filenames:\n",
    "        print(os.path.join(dirname, filename))\n",
    "\n",
    "# You can write up to 20GB to the current directory (/kaggle/working/) that gets preserved as output when you create a version using \"Save & Run All\" \n",
    "# You can also write temporary files to /kaggle/temp/, but they won't be saved outside of the current session"
   ]
  },
  {
   "cell_type": "code",
   "execution_count": 2,
   "id": "a10100b9",
   "metadata": {
    "execution": {
     "iopub.execute_input": "2023-08-13T11:24:24.082395Z",
     "iopub.status.busy": "2023-08-13T11:24:24.081529Z",
     "iopub.status.idle": "2023-08-13T11:24:26.361631Z",
     "shell.execute_reply": "2023-08-13T11:24:26.360215Z"
    },
    "papermill": {
     "duration": 2.288788,
     "end_time": "2023-08-13T11:24:26.363959",
     "exception": false,
     "start_time": "2023-08-13T11:24:24.075171",
     "status": "completed"
    },
    "tags": []
   },
   "outputs": [
    {
     "name": "stderr",
     "output_type": "stream",
     "text": [
      "/opt/conda/lib/python3.10/site-packages/scipy/__init__.py:146: UserWarning: A NumPy version >=1.16.5 and <1.23.0 is required for this version of SciPy (detected version 1.23.5\n",
      "  warnings.warn(f\"A NumPy version >={np_minversion} and <{np_maxversion}\"\n"
     ]
    }
   ],
   "source": [
    "import matplotlib.pyplot as plt\n",
    "import seaborn as sns\n",
    "\n",
    "from sklearn.pipeline import Pipeline\n",
    "from sklearn.preprocessing import StandardScaler, LabelEncoder, MinMaxScaler\n",
    "from sklearn.model_selection import train_test_split\n",
    "from sklearn.svm import SVC\n",
    "from sklearn.linear_model import LinearRegression, SGDClassifier\n",
    "from sklearn.tree import DecisionTreeClassifier\n",
    "from sklearn.ensemble import RandomForestClassifier, ExtraTreesClassifier, GradientBoostingClassifier\n",
    "from sklearn.neighbors import KNeighborsClassifier\n",
    "from sklearn.neural_network import MLPClassifier\n",
    "from sklearn.metrics import classification_report, confusion_matrix, accuracy_score\n",
    "\n",
    "from xgboost import XGBClassifier"
   ]
  },
  {
   "cell_type": "code",
   "execution_count": 3,
   "id": "3184fb0b",
   "metadata": {
    "execution": {
     "iopub.execute_input": "2023-08-13T11:24:26.376069Z",
     "iopub.status.busy": "2023-08-13T11:24:26.375705Z",
     "iopub.status.idle": "2023-08-13T11:24:26.426172Z",
     "shell.execute_reply": "2023-08-13T11:24:26.425257Z"
    },
    "papermill": {
     "duration": 0.058636,
     "end_time": "2023-08-13T11:24:26.427960",
     "exception": false,
     "start_time": "2023-08-13T11:24:26.369324",
     "status": "completed"
    },
    "tags": []
   },
   "outputs": [
    {
     "data": {
      "text/html": [
       "<div>\n",
       "<style scoped>\n",
       "    .dataframe tbody tr th:only-of-type {\n",
       "        vertical-align: middle;\n",
       "    }\n",
       "\n",
       "    .dataframe tbody tr th {\n",
       "        vertical-align: top;\n",
       "    }\n",
       "\n",
       "    .dataframe thead th {\n",
       "        text-align: right;\n",
       "    }\n",
       "</style>\n",
       "<table border=\"1\" class=\"dataframe\">\n",
       "  <thead>\n",
       "    <tr style=\"text-align: right;\">\n",
       "      <th></th>\n",
       "      <th>date</th>\n",
       "      <th>precipitation</th>\n",
       "      <th>temp_max</th>\n",
       "      <th>temp_min</th>\n",
       "      <th>wind</th>\n",
       "      <th>weather</th>\n",
       "    </tr>\n",
       "  </thead>\n",
       "  <tbody>\n",
       "    <tr>\n",
       "      <th>0</th>\n",
       "      <td>2012-01-01</td>\n",
       "      <td>0.0</td>\n",
       "      <td>12.8</td>\n",
       "      <td>5.0</td>\n",
       "      <td>4.7</td>\n",
       "      <td>drizzle</td>\n",
       "    </tr>\n",
       "    <tr>\n",
       "      <th>1</th>\n",
       "      <td>2012-01-02</td>\n",
       "      <td>10.9</td>\n",
       "      <td>10.6</td>\n",
       "      <td>2.8</td>\n",
       "      <td>4.5</td>\n",
       "      <td>rain</td>\n",
       "    </tr>\n",
       "    <tr>\n",
       "      <th>2</th>\n",
       "      <td>2012-01-03</td>\n",
       "      <td>0.8</td>\n",
       "      <td>11.7</td>\n",
       "      <td>7.2</td>\n",
       "      <td>2.3</td>\n",
       "      <td>rain</td>\n",
       "    </tr>\n",
       "    <tr>\n",
       "      <th>3</th>\n",
       "      <td>2012-01-04</td>\n",
       "      <td>20.3</td>\n",
       "      <td>12.2</td>\n",
       "      <td>5.6</td>\n",
       "      <td>4.7</td>\n",
       "      <td>rain</td>\n",
       "    </tr>\n",
       "    <tr>\n",
       "      <th>4</th>\n",
       "      <td>2012-01-05</td>\n",
       "      <td>1.3</td>\n",
       "      <td>8.9</td>\n",
       "      <td>2.8</td>\n",
       "      <td>6.1</td>\n",
       "      <td>rain</td>\n",
       "    </tr>\n",
       "    <tr>\n",
       "      <th>...</th>\n",
       "      <td>...</td>\n",
       "      <td>...</td>\n",
       "      <td>...</td>\n",
       "      <td>...</td>\n",
       "      <td>...</td>\n",
       "      <td>...</td>\n",
       "    </tr>\n",
       "    <tr>\n",
       "      <th>1456</th>\n",
       "      <td>2015-12-27</td>\n",
       "      <td>8.6</td>\n",
       "      <td>4.4</td>\n",
       "      <td>1.7</td>\n",
       "      <td>2.9</td>\n",
       "      <td>rain</td>\n",
       "    </tr>\n",
       "    <tr>\n",
       "      <th>1457</th>\n",
       "      <td>2015-12-28</td>\n",
       "      <td>1.5</td>\n",
       "      <td>5.0</td>\n",
       "      <td>1.7</td>\n",
       "      <td>1.3</td>\n",
       "      <td>rain</td>\n",
       "    </tr>\n",
       "    <tr>\n",
       "      <th>1458</th>\n",
       "      <td>2015-12-29</td>\n",
       "      <td>0.0</td>\n",
       "      <td>7.2</td>\n",
       "      <td>0.6</td>\n",
       "      <td>2.6</td>\n",
       "      <td>fog</td>\n",
       "    </tr>\n",
       "    <tr>\n",
       "      <th>1459</th>\n",
       "      <td>2015-12-30</td>\n",
       "      <td>0.0</td>\n",
       "      <td>5.6</td>\n",
       "      <td>-1.0</td>\n",
       "      <td>3.4</td>\n",
       "      <td>sun</td>\n",
       "    </tr>\n",
       "    <tr>\n",
       "      <th>1460</th>\n",
       "      <td>2015-12-31</td>\n",
       "      <td>0.0</td>\n",
       "      <td>5.6</td>\n",
       "      <td>-2.1</td>\n",
       "      <td>3.5</td>\n",
       "      <td>sun</td>\n",
       "    </tr>\n",
       "  </tbody>\n",
       "</table>\n",
       "<p>1461 rows × 6 columns</p>\n",
       "</div>"
      ],
      "text/plain": [
       "            date  precipitation  temp_max  temp_min  wind  weather\n",
       "0     2012-01-01            0.0      12.8       5.0   4.7  drizzle\n",
       "1     2012-01-02           10.9      10.6       2.8   4.5     rain\n",
       "2     2012-01-03            0.8      11.7       7.2   2.3     rain\n",
       "3     2012-01-04           20.3      12.2       5.6   4.7     rain\n",
       "4     2012-01-05            1.3       8.9       2.8   6.1     rain\n",
       "...          ...            ...       ...       ...   ...      ...\n",
       "1456  2015-12-27            8.6       4.4       1.7   2.9     rain\n",
       "1457  2015-12-28            1.5       5.0       1.7   1.3     rain\n",
       "1458  2015-12-29            0.0       7.2       0.6   2.6      fog\n",
       "1459  2015-12-30            0.0       5.6      -1.0   3.4      sun\n",
       "1460  2015-12-31            0.0       5.6      -2.1   3.5      sun\n",
       "\n",
       "[1461 rows x 6 columns]"
      ]
     },
     "execution_count": 3,
     "metadata": {},
     "output_type": "execute_result"
    }
   ],
   "source": [
    "df = pd.read_csv('/kaggle/input/weather-prediction/seattle-weather.csv')\n",
    "df"
   ]
  },
  {
   "cell_type": "markdown",
   "id": "08f57346",
   "metadata": {
    "papermill": {
     "duration": 0.00493,
     "end_time": "2023-08-13T11:24:26.438435",
     "exception": false,
     "start_time": "2023-08-13T11:24:26.433505",
     "status": "completed"
    },
    "tags": []
   },
   "source": [
    "# Visualization"
   ]
  },
  {
   "cell_type": "code",
   "execution_count": 4,
   "id": "0cd51029",
   "metadata": {
    "execution": {
     "iopub.execute_input": "2023-08-13T11:24:26.450654Z",
     "iopub.status.busy": "2023-08-13T11:24:26.449922Z",
     "iopub.status.idle": "2023-08-13T11:24:26.661535Z",
     "shell.execute_reply": "2023-08-13T11:24:26.660146Z"
    },
    "papermill": {
     "duration": 0.220737,
     "end_time": "2023-08-13T11:24:26.664246",
     "exception": false,
     "start_time": "2023-08-13T11:24:26.443509",
     "status": "completed"
    },
    "tags": []
   },
   "outputs": [
    {
     "data": {
      "text/plain": [
       "<Axes: xlabel='weather', ylabel='count'>"
      ]
     },
     "execution_count": 4,
     "metadata": {},
     "output_type": "execute_result"
    },
    {
     "data": {
      "image/png": "[encoded data removed]",
      "text/plain": [
       "<Figure size 640x480 with 1 Axes>"
      ]
     },
     "metadata": {},
     "output_type": "display_data"
    }
   ],
   "source": [
    "sns.countplot(data=df, x='weather')"
   ]
  },
  {
   "cell_type": "code",
   "execution_count": 5,
   "id": "06a5aae6",
   "metadata": {
    "execution": {
     "iopub.execute_input": "2023-08-13T11:24:26.677230Z",
     "iopub.status.busy": "2023-08-13T11:24:26.676620Z",
     "iopub.status.idle": "2023-08-13T11:24:29.904270Z",
     "shell.execute_reply": "2023-08-13T11:24:29.903277Z"
    },
    "papermill": {
     "duration": 3.236334,
     "end_time": "2023-08-13T11:24:29.906343",
     "exception": false,
     "start_time": "2023-08-13T11:24:26.670009",
     "status": "completed"
    },
    "tags": []
   },
   "outputs": [
    {
     "name": "stderr",
     "output_type": "stream",
     "text": [
      "/opt/conda/lib/python3.10/site-packages/seaborn/axisgrid.py:118: UserWarning: The figure layout has changed to tight\n",
      "  self._figure.tight_layout(*args, **kwargs)\n"
     ]
    },
    {
     "data": {
      "text/plain": [
       "<seaborn.axisgrid.FacetGrid at 0x7f93d1379d20>"
      ]
     },
     "execution_count": 5,
     "metadata": {},
     "output_type": "execute_result"
    },
    {
     "data": {
      "image/png": "[encoded data removed]",
      "text/plain": [
       "<Figure size 595.625x500 with 1 Axes>"
      ]
     },
     "metadata": {},
     "output_type": "display_data"
    }
   ],
   "source": [
    "sns.relplot(data=df, x='wind', y='precipitation', hue='weather', kind='line')"
   ]
  },
  {
   "cell_type": "code",
   "execution_count": 6,
   "id": "3310d236",
   "metadata": {
    "execution": {
     "iopub.execute_input": "2023-08-13T11:24:29.922585Z",
     "iopub.status.busy": "2023-08-13T11:24:29.922227Z",
     "iopub.status.idle": "2023-08-13T11:24:30.263789Z",
     "shell.execute_reply": "2023-08-13T11:24:30.262491Z"
    },
    "papermill": {
     "duration": 0.352529,
     "end_time": "2023-08-13T11:24:30.266180",
     "exception": false,
     "start_time": "2023-08-13T11:24:29.913651",
     "status": "completed"
    },
    "tags": []
   },
   "outputs": [
    {
     "data": {
      "text/plain": [
       "<Axes: xlabel='precipitation', ylabel='Count'>"
      ]
     },
     "execution_count": 6,
     "metadata": {},
     "output_type": "execute_result"
    },
    {
     "data": {
      "image/png": "[encoded data removed]",
      "text/plain": [
       "<Figure size 640x480 with 1 Axes>"
      ]
     },
     "metadata": {},
     "output_type": "display_data"
    }
   ],
   "source": [
    "sns.histplot(data=df, x='precipitation')"
   ]
  },
  {
   "cell_type": "code",
   "execution_count": 7,
   "id": "b3f1de91",
   "metadata": {
    "execution": {
     "iopub.execute_input": "2023-08-13T11:24:30.283150Z",
     "iopub.status.busy": "2023-08-13T11:24:30.282634Z",
     "iopub.status.idle": "2023-08-13T11:24:30.536499Z",
     "shell.execute_reply": "2023-08-13T11:24:30.535318Z"
    },
    "papermill": {
     "duration": 0.265068,
     "end_time": "2023-08-13T11:24:30.539412",
     "exception": false,
     "start_time": "2023-08-13T11:24:30.274344",
     "status": "completed"
    },
    "tags": []
   },
   "outputs": [
    {
     "data": {
      "text/plain": [
       "<Axes: xlabel='temp_max', ylabel='Count'>"
      ]
     },
     "execution_count": 7,
     "metadata": {},
     "output_type": "execute_result"
    },
    {
     "data": {
      "image/png": "[encoded data removed]",
      "text/plain": [
       "<Figure size 640x480 with 1 Axes>"
      ]
     },
     "metadata": {},
     "output_type": "display_data"
    }
   ],
   "source": [
    "sns.histplot(data=df, x='temp_max')"
   ]
  },
  {
   "cell_type": "code",
   "execution_count": 8,
   "id": "b54a8da1",
   "metadata": {
    "execution": {
     "iopub.execute_input": "2023-08-13T11:24:30.557031Z",
     "iopub.status.busy": "2023-08-13T11:24:30.556076Z",
     "iopub.status.idle": "2023-08-13T11:24:30.797771Z",
     "shell.execute_reply": "2023-08-13T11:24:30.796546Z"
    },
    "papermill": {
     "duration": 0.253777,
     "end_time": "2023-08-13T11:24:30.800685",
     "exception": false,
     "start_time": "2023-08-13T11:24:30.546908",
     "status": "completed"
    },
    "tags": []
   },
   "outputs": [
    {
     "data": {
      "text/plain": [
       "<Axes: xlabel='temp_min', ylabel='Count'>"
      ]
     },
     "execution_count": 8,
     "metadata": {},
     "output_type": "execute_result"
    },
    {
     "data": {
      "image/png": "[encoded data removed]",
      "text/plain": [
       "<Figure size 640x480 with 1 Axes>"
      ]
     },
     "metadata": {},
     "output_type": "display_data"
    }
   ],
   "source": [
    "sns.histplot(data=df, x='temp_min')"
   ]
  },
  {
   "cell_type": "markdown",
   "id": "a0e7ae5a",
   "metadata": {
    "papermill": {
     "duration": 0.00734,
     "end_time": "2023-08-13T11:24:30.816704",
     "exception": false,
     "start_time": "2023-08-13T11:24:30.809364",
     "status": "completed"
    },
    "tags": []
   },
   "source": [
    "# Data Manipulation"
   ]
  },
  {
   "cell_type": "code",
   "execution_count": 9,
   "id": "badcb8f2",
   "metadata": {
    "execution": {
     "iopub.execute_input": "2023-08-13T11:24:30.833265Z",
     "iopub.status.busy": "2023-08-13T11:24:30.832909Z",
     "iopub.status.idle": "2023-08-13T11:24:30.851277Z",
     "shell.execute_reply": "2023-08-13T11:24:30.850180Z"
    },
    "papermill": {
     "duration": 0.029228,
     "end_time": "2023-08-13T11:24:30.853334",
     "exception": false,
     "start_time": "2023-08-13T11:24:30.824106",
     "status": "completed"
    },
    "tags": []
   },
   "outputs": [
    {
     "data": {
      "text/html": [
       "<div>\n",
       "<style scoped>\n",
       "    .dataframe tbody tr th:only-of-type {\n",
       "        vertical-align: middle;\n",
       "    }\n",
       "\n",
       "    .dataframe tbody tr th {\n",
       "        vertical-align: top;\n",
       "    }\n",
       "\n",
       "    .dataframe thead th {\n",
       "        text-align: right;\n",
       "    }\n",
       "</style>\n",
       "<table border=\"1\" class=\"dataframe\">\n",
       "  <thead>\n",
       "    <tr style=\"text-align: right;\">\n",
       "      <th></th>\n",
       "      <th>precipitation</th>\n",
       "      <th>temp_max</th>\n",
       "      <th>temp_min</th>\n",
       "      <th>wind</th>\n",
       "    </tr>\n",
       "  </thead>\n",
       "  <tbody>\n",
       "    <tr>\n",
       "      <th>count</th>\n",
       "      <td>1461.000000</td>\n",
       "      <td>1461.000000</td>\n",
       "      <td>1461.000000</td>\n",
       "      <td>1461.000000</td>\n",
       "    </tr>\n",
       "    <tr>\n",
       "      <th>mean</th>\n",
       "      <td>3.029432</td>\n",
       "      <td>16.439083</td>\n",
       "      <td>8.234771</td>\n",
       "      <td>3.241136</td>\n",
       "    </tr>\n",
       "    <tr>\n",
       "      <th>std</th>\n",
       "      <td>6.680194</td>\n",
       "      <td>7.349758</td>\n",
       "      <td>5.023004</td>\n",
       "      <td>1.437825</td>\n",
       "    </tr>\n",
       "    <tr>\n",
       "      <th>min</th>\n",
       "      <td>0.000000</td>\n",
       "      <td>-1.600000</td>\n",
       "      <td>-7.100000</td>\n",
       "      <td>0.400000</td>\n",
       "    </tr>\n",
       "    <tr>\n",
       "      <th>25%</th>\n",
       "      <td>0.000000</td>\n",
       "      <td>10.600000</td>\n",
       "      <td>4.400000</td>\n",
       "      <td>2.200000</td>\n",
       "    </tr>\n",
       "    <tr>\n",
       "      <th>50%</th>\n",
       "      <td>0.000000</td>\n",
       "      <td>15.600000</td>\n",
       "      <td>8.300000</td>\n",
       "      <td>3.000000</td>\n",
       "    </tr>\n",
       "    <tr>\n",
       "      <th>75%</th>\n",
       "      <td>2.800000</td>\n",
       "      <td>22.200000</td>\n",
       "      <td>12.200000</td>\n",
       "      <td>4.000000</td>\n",
       "    </tr>\n",
       "    <tr>\n",
       "      <th>max</th>\n",
       "      <td>55.900000</td>\n",
       "      <td>35.600000</td>\n",
       "      <td>18.300000</td>\n",
       "      <td>9.500000</td>\n",
       "    </tr>\n",
       "  </tbody>\n",
       "</table>\n",
       "</div>"
      ],
      "text/plain": [
       "       precipitation     temp_max     temp_min         wind\n",
       "count    1461.000000  1461.000000  1461.000000  1461.000000\n",
       "mean        3.029432    16.439083     8.234771     3.241136\n",
       "std         6.680194     7.349758     5.023004     1.437825\n",
       "min         0.000000    -1.600000    -7.100000     0.400000\n",
       "25%         0.000000    10.600000     4.400000     2.200000\n",
       "50%         0.000000    15.600000     8.300000     3.000000\n",
       "75%         2.800000    22.200000    12.200000     4.000000\n",
       "max        55.900000    35.600000    18.300000     9.500000"
      ]
     },
     "execution_count": 9,
     "metadata": {},
     "output_type": "execute_result"
    }
   ],
   "source": [
    "df.describe()"
   ]
  },
  {
   "cell_type": "code",
   "execution_count": 10,
   "id": "122ecf70",
   "metadata": {
    "execution": {
     "iopub.execute_input": "2023-08-13T11:24:30.871025Z",
     "iopub.status.busy": "2023-08-13T11:24:30.870368Z",
     "iopub.status.idle": "2023-08-13T11:24:30.885575Z",
     "shell.execute_reply": "2023-08-13T11:24:30.884357Z"
    },
    "papermill": {
     "duration": 0.026768,
     "end_time": "2023-08-13T11:24:30.888019",
     "exception": false,
     "start_time": "2023-08-13T11:24:30.861251",
     "status": "completed"
    },
    "tags": []
   },
   "outputs": [
    {
     "name": "stdout",
     "output_type": "stream",
     "text": [
      "<class 'pandas.core.frame.DataFrame'>\n",
      "RangeIndex: 1461 entries, 0 to 1460\n",
      "Data columns (total 6 columns):\n",
      " #   Column         Non-Null Count  Dtype  \n",
      "---  ------         --------------  -----  \n",
      " 0   date           1461 non-null   object \n",
      " 1   precipitation  1461 non-null   float64\n",
      " 2   temp_max       1461 non-null   float64\n",
      " 3   temp_min       1461 non-null   float64\n",
      " 4   wind           1461 non-null   float64\n",
      " 5   weather        1461 non-null   object \n",
      "dtypes: float64(4), object(2)\n",
      "memory usage: 68.6+ KB\n"
     ]
    }
   ],
   "source": [
    "df.info()"
   ]
  },
  {
   "cell_type": "code",
   "execution_count": 11,
   "id": "3697320f",
   "metadata": {
    "execution": {
     "iopub.execute_input": "2023-08-13T11:24:30.906823Z",
     "iopub.status.busy": "2023-08-13T11:24:30.905457Z",
     "iopub.status.idle": "2023-08-13T11:24:30.914235Z",
     "shell.execute_reply": "2023-08-13T11:24:30.913142Z"
    },
    "papermill": {
     "duration": 0.020247,
     "end_time": "2023-08-13T11:24:30.916377",
     "exception": false,
     "start_time": "2023-08-13T11:24:30.896130",
     "status": "completed"
    },
    "tags": []
   },
   "outputs": [
    {
     "data": {
      "text/plain": [
       "date             0\n",
       "precipitation    0\n",
       "temp_max         0\n",
       "temp_min         0\n",
       "wind             0\n",
       "weather          0\n",
       "dtype: int64"
      ]
     },
     "execution_count": 11,
     "metadata": {},
     "output_type": "execute_result"
    }
   ],
   "source": [
    "df.isna().sum()"
   ]
  },
  {
   "cell_type": "code",
   "execution_count": 12,
   "id": "1ff81beb",
   "metadata": {
    "execution": {
     "iopub.execute_input": "2023-08-13T11:24:30.935124Z",
     "iopub.status.busy": "2023-08-13T11:24:30.933907Z",
     "iopub.status.idle": "2023-08-13T11:24:30.950563Z",
     "shell.execute_reply": "2023-08-13T11:24:30.949145Z"
    },
    "papermill": {
     "duration": 0.028358,
     "end_time": "2023-08-13T11:24:30.953053",
     "exception": false,
     "start_time": "2023-08-13T11:24:30.924695",
     "status": "completed"
    },
    "tags": []
   },
   "outputs": [
    {
     "data": {
      "text/html": [
       "<div>\n",
       "<style scoped>\n",
       "    .dataframe tbody tr th:only-of-type {\n",
       "        vertical-align: middle;\n",
       "    }\n",
       "\n",
       "    .dataframe tbody tr th {\n",
       "        vertical-align: top;\n",
       "    }\n",
       "\n",
       "    .dataframe thead th {\n",
       "        text-align: right;\n",
       "    }\n",
       "</style>\n",
       "<table border=\"1\" class=\"dataframe\">\n",
       "  <thead>\n",
       "    <tr style=\"text-align: right;\">\n",
       "      <th></th>\n",
       "      <th>date</th>\n",
       "      <th>precipitation</th>\n",
       "      <th>temp_max</th>\n",
       "      <th>temp_min</th>\n",
       "      <th>wind</th>\n",
       "      <th>weather</th>\n",
       "    </tr>\n",
       "  </thead>\n",
       "  <tbody>\n",
       "    <tr>\n",
       "      <th>0</th>\n",
       "      <td>2012-01-01</td>\n",
       "      <td>0.0</td>\n",
       "      <td>12.8</td>\n",
       "      <td>5.0</td>\n",
       "      <td>4.7</td>\n",
       "      <td>drizzle</td>\n",
       "    </tr>\n",
       "    <tr>\n",
       "      <th>1</th>\n",
       "      <td>2012-01-02</td>\n",
       "      <td>10.9</td>\n",
       "      <td>10.6</td>\n",
       "      <td>2.8</td>\n",
       "      <td>4.5</td>\n",
       "      <td>rain</td>\n",
       "    </tr>\n",
       "    <tr>\n",
       "      <th>2</th>\n",
       "      <td>2012-01-03</td>\n",
       "      <td>0.8</td>\n",
       "      <td>11.7</td>\n",
       "      <td>7.2</td>\n",
       "      <td>2.3</td>\n",
       "      <td>rain</td>\n",
       "    </tr>\n",
       "    <tr>\n",
       "      <th>3</th>\n",
       "      <td>2012-01-04</td>\n",
       "      <td>20.3</td>\n",
       "      <td>12.2</td>\n",
       "      <td>5.6</td>\n",
       "      <td>4.7</td>\n",
       "      <td>rain</td>\n",
       "    </tr>\n",
       "    <tr>\n",
       "      <th>4</th>\n",
       "      <td>2012-01-05</td>\n",
       "      <td>1.3</td>\n",
       "      <td>8.9</td>\n",
       "      <td>2.8</td>\n",
       "      <td>6.1</td>\n",
       "      <td>rain</td>\n",
       "    </tr>\n",
       "    <tr>\n",
       "      <th>...</th>\n",
       "      <td>...</td>\n",
       "      <td>...</td>\n",
       "      <td>...</td>\n",
       "      <td>...</td>\n",
       "      <td>...</td>\n",
       "      <td>...</td>\n",
       "    </tr>\n",
       "    <tr>\n",
       "      <th>1456</th>\n",
       "      <td>2015-12-27</td>\n",
       "      <td>8.6</td>\n",
       "      <td>4.4</td>\n",
       "      <td>1.7</td>\n",
       "      <td>2.9</td>\n",
       "      <td>rain</td>\n",
       "    </tr>\n",
       "    <tr>\n",
       "      <th>1457</th>\n",
       "      <td>2015-12-28</td>\n",
       "      <td>1.5</td>\n",
       "      <td>5.0</td>\n",
       "      <td>1.7</td>\n",
       "      <td>1.3</td>\n",
       "      <td>rain</td>\n",
       "    </tr>\n",
       "    <tr>\n",
       "      <th>1458</th>\n",
       "      <td>2015-12-29</td>\n",
       "      <td>0.0</td>\n",
       "      <td>7.2</td>\n",
       "      <td>0.6</td>\n",
       "      <td>2.6</td>\n",
       "      <td>fog</td>\n",
       "    </tr>\n",
       "    <tr>\n",
       "      <th>1459</th>\n",
       "      <td>2015-12-30</td>\n",
       "      <td>0.0</td>\n",
       "      <td>5.6</td>\n",
       "      <td>-1.0</td>\n",
       "      <td>3.4</td>\n",
       "      <td>sun</td>\n",
       "    </tr>\n",
       "    <tr>\n",
       "      <th>1460</th>\n",
       "      <td>2015-12-31</td>\n",
       "      <td>0.0</td>\n",
       "      <td>5.6</td>\n",
       "      <td>-2.1</td>\n",
       "      <td>3.5</td>\n",
       "      <td>sun</td>\n",
       "    </tr>\n",
       "  </tbody>\n",
       "</table>\n",
       "<p>1461 rows × 6 columns</p>\n",
       "</div>"
      ],
      "text/plain": [
       "            date  precipitation  temp_max  temp_min  wind  weather\n",
       "0     2012-01-01            0.0      12.8       5.0   4.7  drizzle\n",
       "1     2012-01-02           10.9      10.6       2.8   4.5     rain\n",
       "2     2012-01-03            0.8      11.7       7.2   2.3     rain\n",
       "3     2012-01-04           20.3      12.2       5.6   4.7     rain\n",
       "4     2012-01-05            1.3       8.9       2.8   6.1     rain\n",
       "...          ...            ...       ...       ...   ...      ...\n",
       "1456  2015-12-27            8.6       4.4       1.7   2.9     rain\n",
       "1457  2015-12-28            1.5       5.0       1.7   1.3     rain\n",
       "1458  2015-12-29            0.0       7.2       0.6   2.6      fog\n",
       "1459  2015-12-30            0.0       5.6      -1.0   3.4      sun\n",
       "1460  2015-12-31            0.0       5.6      -2.1   3.5      sun\n",
       "\n",
       "[1461 rows x 6 columns]"
      ]
     },
     "execution_count": 12,
     "metadata": {},
     "output_type": "execute_result"
    }
   ],
   "source": [
    "df"
   ]
  },
  {
   "cell_type": "markdown",
   "id": "5cb73220",
   "metadata": {
    "papermill": {
     "duration": 0.008575,
     "end_time": "2023-08-13T11:24:30.970028",
     "exception": false,
     "start_time": "2023-08-13T11:24:30.961453",
     "status": "completed"
    },
    "tags": []
   },
   "source": [
    "# Modeling\n",
    "> ## Pipelining"
   ]
  },
  {
   "cell_type": "code",
   "execution_count": 13,
   "id": "06d42903",
   "metadata": {
    "execution": {
     "iopub.execute_input": "2023-08-13T11:24:30.988912Z",
     "iopub.status.busy": "2023-08-13T11:24:30.988575Z",
     "iopub.status.idle": "2023-08-13T11:24:31.001355Z",
     "shell.execute_reply": "2023-08-13T11:24:31.000029Z"
    },
    "papermill": {
     "duration": 0.024354,
     "end_time": "2023-08-13T11:24:31.003434",
     "exception": false,
     "start_time": "2023-08-13T11:24:30.979080",
     "status": "completed"
    },
    "tags": []
   },
   "outputs": [],
   "source": [
    "def models_pipline(X, y, testX, scale):\n",
    "    \n",
    "    ## Pipeline\n",
    "    pip_dtc = Pipeline([('scaler', scale),\n",
    "                        ('model', DecisionTreeClassifier())]).fit(X, y)\n",
    "    \n",
    "    pip_rfc = Pipeline([('scaler', scale),\n",
    "                        ('model', RandomForestClassifier())]).fit(X, y)\n",
    "    \n",
    "    pip_etc = Pipeline([('scaler', scale),\n",
    "                        ('model', ExtraTreesClassifier())]).fit(X, y)\n",
    "    \n",
    "    pip_gbc = Pipeline([('scaler', scale),\n",
    "                        ('model', GradientBoostingClassifier())]).fit(X, y)\n",
    "    \n",
    "    pip_sgdc = Pipeline([('scaler', scale),\n",
    "                         ('model', SGDClassifier())]).fit(X, y)\n",
    "    \n",
    "    pip_knc = Pipeline([('scaler', scale),\n",
    "                        ('model', KNeighborsClassifier())]).fit(X, y)\n",
    "    \n",
    "    pip_mlp = Pipeline([('scaler', scale),\n",
    "                        ('model', MLPClassifier())]).fit(X, y)\n",
    "    \n",
    "    pip_xgb = Pipeline([('scaler', scale),\n",
    "                        ('model', XGBClassifier())]).fit(X, y)\n",
    "    \n",
    "    \n",
    "    ## Prediction\n",
    "    pred_dtc = pip_dtc.predict(testX)\n",
    "    pred_rfc = pip_rfc.predict(testX)\n",
    "    pred_etc = pip_etc.predict(testX)\n",
    "    pred_gbc = pip_gbc.predict(testX)\n",
    "    pred_sgdc = pip_sgdc.predict(testX)\n",
    "    pred_knc = pip_knc.predict(testX)\n",
    "    pred_mlp = pip_mlp.predict(testX)\n",
    "    pred_xgb = pip_xgb.predict(testX)\n",
    "    \n",
    "#     predictions = ['pred_dtc', 'pred_rfc', 'pred_etc', 'pred_gbc', 'pred_sgdc', 'pred_knc', 'pred_mlp']\n",
    "    \n",
    "    ## Evaluation\n",
    "    \n",
    "#     for preds in predictions:\n",
    "    print(f\"DecisionTreeClassifier:\\n Confusion matrix: {sns.heatmap(confusion_matrix(y_test, pred_dtc))}\\n Accuracy Score: {accuracy_score(y_test, pred_dtc)}\\n Classification Report:\\n {classification_report(y_test, pred_dtc)}\")\n",
    "    print(f\"RandomForestClassifier:\\n Confusion matrix: {sns.heatmap(confusion_matrix(y_test, pred_rfc))}\\n Accuracy Score: {accuracy_score(y_test, pred_rfc)}\\n Classification Report:\\n {classification_report(y_test, pred_rfc)}\")\n",
    "    print(f\"ExtraTreesClassifier:\\n Confusion matrix: {sns.heatmap(confusion_matrix(y_test, pred_etc))}\\n Accuracy Score: {accuracy_score(y_test, pred_etc)}\\n Classification Report:\\n {classification_report(y_test, pred_etc)}\")\n",
    "    print(f\"GradientBoostingClassifier:\\n Confusion matrix: {sns.heatmap(confusion_matrix(y_test, pred_gbc))}\\n Accuracy Score: {accuracy_score(y_test, pred_gbc)}\\n Classification Report:\\n {classification_report(y_test, pred_gbc)}\")\n",
    "    print(f\"SGDClassifier:\\n Confusion matrix: {sns.heatmap(confusion_matrix(y_test, pred_sgdc))}\\n Accuracy Score: {accuracy_score(y_test, pred_sgdc)}\\n Classification Report:\\n {classification_report(y_test, pred_sgdc)}\")\n",
    "    print(f\"KNeighborsClassifier:\\n Confusion matrix: {sns.heatmap(confusion_matrix(y_test, pred_knc))}\\n Accuracy Score: {accuracy_score(y_test, pred_knc)}\\n Classification Report:\\n {classification_report(y_test, pred_knc)}\")\n",
    "    print(f\"MLPClassifier:\\n Confusion matrix: {sns.heatmap(confusion_matrix(y_test, pred_mlp))}\\n Accuracy Score: {accuracy_score(y_test, pred_mlp)}\\n Classification Report:\\n {classification_report(y_test, pred_mlp)}\")\n",
    "    print(f\"XGBClassifier:\\n Confusion matrix: {sns.heatmap(confusion_matrix(y_test, pred_xgb))}\\n Accuracy Score: {accuracy_score(y_test, pred_xgb)}\\n Classification Report:\\n {classification_report(y_test, pred_xgb)}\")"
   ]
  },
  {
   "cell_type": "markdown",
   "id": "3a37a81e",
   "metadata": {
    "papermill": {
     "duration": 0.008465,
     "end_time": "2023-08-13T11:24:31.020165",
     "exception": false,
     "start_time": "2023-08-13T11:24:31.011700",
     "status": "completed"
    },
    "tags": []
   },
   "source": [
    "> ## Data Preparing:"
   ]
  },
  {
   "cell_type": "code",
   "execution_count": 14,
   "id": "061c3312",
   "metadata": {
    "execution": {
     "iopub.execute_input": "2023-08-13T11:24:31.039316Z",
     "iopub.status.busy": "2023-08-13T11:24:31.038800Z",
     "iopub.status.idle": "2023-08-13T11:24:31.043845Z",
     "shell.execute_reply": "2023-08-13T11:24:31.043005Z"
    },
    "papermill": {
     "duration": 0.017176,
     "end_time": "2023-08-13T11:24:31.046473",
     "exception": false,
     "start_time": "2023-08-13T11:24:31.029297",
     "status": "completed"
    },
    "tags": []
   },
   "outputs": [],
   "source": [
    "# Encoding the Target which is Categorical in Nature.\n",
    "\n",
    "le = LabelEncoder()\n",
    "df['weather'] = le.fit_transform(df['weather'])"
   ]
  },
  {
   "cell_type": "code",
   "execution_count": 15,
   "id": "244f7551",
   "metadata": {
    "execution": {
     "iopub.execute_input": "2023-08-13T11:24:31.064868Z",
     "iopub.status.busy": "2023-08-13T11:24:31.063880Z",
     "iopub.status.idle": "2023-08-13T11:24:31.080096Z",
     "shell.execute_reply": "2023-08-13T11:24:31.078778Z"
    },
    "papermill": {
     "duration": 0.028084,
     "end_time": "2023-08-13T11:24:31.082737",
     "exception": false,
     "start_time": "2023-08-13T11:24:31.054653",
     "status": "completed"
    },
    "tags": []
   },
   "outputs": [
    {
     "data": {
      "text/html": [
       "<div>\n",
       "<style scoped>\n",
       "    .dataframe tbody tr th:only-of-type {\n",
       "        vertical-align: middle;\n",
       "    }\n",
       "\n",
       "    .dataframe tbody tr th {\n",
       "        vertical-align: top;\n",
       "    }\n",
       "\n",
       "    .dataframe thead th {\n",
       "        text-align: right;\n",
       "    }\n",
       "</style>\n",
       "<table border=\"1\" class=\"dataframe\">\n",
       "  <thead>\n",
       "    <tr style=\"text-align: right;\">\n",
       "      <th></th>\n",
       "      <th>date</th>\n",
       "      <th>precipitation</th>\n",
       "      <th>temp_max</th>\n",
       "      <th>temp_min</th>\n",
       "      <th>wind</th>\n",
       "      <th>weather</th>\n",
       "    </tr>\n",
       "  </thead>\n",
       "  <tbody>\n",
       "    <tr>\n",
       "      <th>0</th>\n",
       "      <td>2012-01-01</td>\n",
       "      <td>0.0</td>\n",
       "      <td>12.8</td>\n",
       "      <td>5.0</td>\n",
       "      <td>4.7</td>\n",
       "      <td>0</td>\n",
       "    </tr>\n",
       "    <tr>\n",
       "      <th>1</th>\n",
       "      <td>2012-01-02</td>\n",
       "      <td>10.9</td>\n",
       "      <td>10.6</td>\n",
       "      <td>2.8</td>\n",
       "      <td>4.5</td>\n",
       "      <td>2</td>\n",
       "    </tr>\n",
       "    <tr>\n",
       "      <th>2</th>\n",
       "      <td>2012-01-03</td>\n",
       "      <td>0.8</td>\n",
       "      <td>11.7</td>\n",
       "      <td>7.2</td>\n",
       "      <td>2.3</td>\n",
       "      <td>2</td>\n",
       "    </tr>\n",
       "    <tr>\n",
       "      <th>3</th>\n",
       "      <td>2012-01-04</td>\n",
       "      <td>20.3</td>\n",
       "      <td>12.2</td>\n",
       "      <td>5.6</td>\n",
       "      <td>4.7</td>\n",
       "      <td>2</td>\n",
       "    </tr>\n",
       "    <tr>\n",
       "      <th>4</th>\n",
       "      <td>2012-01-05</td>\n",
       "      <td>1.3</td>\n",
       "      <td>8.9</td>\n",
       "      <td>2.8</td>\n",
       "      <td>6.1</td>\n",
       "      <td>2</td>\n",
       "    </tr>\n",
       "    <tr>\n",
       "      <th>...</th>\n",
       "      <td>...</td>\n",
       "      <td>...</td>\n",
       "      <td>...</td>\n",
       "      <td>...</td>\n",
       "      <td>...</td>\n",
       "      <td>...</td>\n",
       "    </tr>\n",
       "    <tr>\n",
       "      <th>1456</th>\n",
       "      <td>2015-12-27</td>\n",
       "      <td>8.6</td>\n",
       "      <td>4.4</td>\n",
       "      <td>1.7</td>\n",
       "      <td>2.9</td>\n",
       "      <td>2</td>\n",
       "    </tr>\n",
       "    <tr>\n",
       "      <th>1457</th>\n",
       "      <td>2015-12-28</td>\n",
       "      <td>1.5</td>\n",
       "      <td>5.0</td>\n",
       "      <td>1.7</td>\n",
       "      <td>1.3</td>\n",
       "      <td>2</td>\n",
       "    </tr>\n",
       "    <tr>\n",
       "      <th>1458</th>\n",
       "      <td>2015-12-29</td>\n",
       "      <td>0.0</td>\n",
       "      <td>7.2</td>\n",
       "      <td>0.6</td>\n",
       "      <td>2.6</td>\n",
       "      <td>1</td>\n",
       "    </tr>\n",
       "    <tr>\n",
       "      <th>1459</th>\n",
       "      <td>2015-12-30</td>\n",
       "      <td>0.0</td>\n",
       "      <td>5.6</td>\n",
       "      <td>-1.0</td>\n",
       "      <td>3.4</td>\n",
       "      <td>4</td>\n",
       "    </tr>\n",
       "    <tr>\n",
       "      <th>1460</th>\n",
       "      <td>2015-12-31</td>\n",
       "      <td>0.0</td>\n",
       "      <td>5.6</td>\n",
       "      <td>-2.1</td>\n",
       "      <td>3.5</td>\n",
       "      <td>4</td>\n",
       "    </tr>\n",
       "  </tbody>\n",
       "</table>\n",
       "<p>1461 rows × 6 columns</p>\n",
       "</div>"
      ],
      "text/plain": [
       "            date  precipitation  temp_max  temp_min  wind  weather\n",
       "0     2012-01-01            0.0      12.8       5.0   4.7        0\n",
       "1     2012-01-02           10.9      10.6       2.8   4.5        2\n",
       "2     2012-01-03            0.8      11.7       7.2   2.3        2\n",
       "3     2012-01-04           20.3      12.2       5.6   4.7        2\n",
       "4     2012-01-05            1.3       8.9       2.8   6.1        2\n",
       "...          ...            ...       ...       ...   ...      ...\n",
       "1456  2015-12-27            8.6       4.4       1.7   2.9        2\n",
       "1457  2015-12-28            1.5       5.0       1.7   1.3        2\n",
       "1458  2015-12-29            0.0       7.2       0.6   2.6        1\n",
       "1459  2015-12-30            0.0       5.6      -1.0   3.4        4\n",
       "1460  2015-12-31            0.0       5.6      -2.1   3.5        4\n",
       "\n",
       "[1461 rows x 6 columns]"
      ]
     },
     "execution_count": 15,
     "metadata": {},
     "output_type": "execute_result"
    }
   ],
   "source": [
    "df"
   ]
  },
  {
   "cell_type": "code",
   "execution_count": 16,
   "id": "48426790",
   "metadata": {
    "execution": {
     "iopub.execute_input": "2023-08-13T11:24:31.101225Z",
     "iopub.status.busy": "2023-08-13T11:24:31.100699Z",
     "iopub.status.idle": "2023-08-13T11:24:31.108992Z",
     "shell.execute_reply": "2023-08-13T11:24:31.108159Z"
    },
    "papermill": {
     "duration": 0.019373,
     "end_time": "2023-08-13T11:24:31.110689",
     "exception": false,
     "start_time": "2023-08-13T11:24:31.091316",
     "status": "completed"
    },
    "tags": []
   },
   "outputs": [],
   "source": [
    "# Splitting the Dataset\n",
    "\n",
    "X = df.drop(columns=['date', 'weather'])\n",
    "y = df['weather']\n",
    "\n",
    "\n",
    "X_train, X_test, y_train, y_test = train_test_split(X, y, test_size = 0.2, random_state=0)"
   ]
  },
  {
   "cell_type": "markdown",
   "id": "ee719e68",
   "metadata": {
    "papermill": {
     "duration": 0.009025,
     "end_time": "2023-08-13T11:24:31.128289",
     "exception": false,
     "start_time": "2023-08-13T11:24:31.119264",
     "status": "completed"
    },
    "tags": []
   },
   "source": [
    "> ## Testing pipeline functions"
   ]
  },
  {
   "cell_type": "code",
   "execution_count": 17,
   "id": "3ba7f83b",
   "metadata": {
    "execution": {
     "iopub.execute_input": "2023-08-13T11:24:31.147452Z",
     "iopub.status.busy": "2023-08-13T11:24:31.146886Z",
     "iopub.status.idle": "2023-08-13T11:24:34.831819Z",
     "shell.execute_reply": "2023-08-13T11:24:34.830301Z"
    },
    "papermill": {
     "duration": 3.696933,
     "end_time": "2023-08-13T11:24:34.834078",
     "exception": false,
     "start_time": "2023-08-13T11:24:31.137145",
     "status": "completed"
    },
    "tags": []
   },
   "outputs": [
    {
     "name": "stderr",
     "output_type": "stream",
     "text": [
      "/opt/conda/lib/python3.10/site-packages/sklearn/neural_network/_multilayer_perceptron.py:686: ConvergenceWarning: Stochastic Optimizer: Maximum iterations (200) reached and the optimization hasn't converged yet.\n",
      "  warnings.warn(\n"
     ]
    },
    {
     "name": "stdout",
     "output_type": "stream",
     "text": [
      "DecisionTreeClassifier:\n",
      " Confusion matrix: Axes(0.125,0.11;0.62x0.77)\n",
      " Accuracy Score: 0.7064846416382252\n",
      " Classification Report:\n",
      "               precision    recall  f1-score   support\n",
      "\n",
      "           0       0.06      0.10      0.07        10\n",
      "           1       0.24      0.21      0.22        29\n",
      "           2       0.90      0.90      0.90       123\n",
      "           3       0.75      0.50      0.60         6\n",
      "           4       0.70      0.69      0.70       125\n",
      "\n",
      "    accuracy                           0.71       293\n",
      "   macro avg       0.53      0.48      0.50       293\n",
      "weighted avg       0.72      0.71      0.71       293\n",
      "\n",
      "RandomForestClassifier:\n",
      " Confusion matrix: Axes(0.125,0.11;0.496x0.77)\n",
      " Accuracy Score: 0.7747440273037542\n",
      " Classification Report:\n",
      "               precision    recall  f1-score   support\n",
      "\n",
      "           0       0.00      0.00      0.00        10\n",
      "           1       0.11      0.03      0.05        29\n",
      "           2       0.97      0.91      0.94       123\n",
      "           3       1.00      0.50      0.67         6\n",
      "           4       0.71      0.89      0.79       125\n",
      "\n",
      "    accuracy                           0.77       293\n",
      "   macro avg       0.56      0.47      0.49       293\n",
      "weighted avg       0.74      0.77      0.75       293\n",
      "\n",
      "ExtraTreesClassifier:\n",
      " Confusion matrix: Axes(0.125,0.11;0.3968x0.77)\n",
      " Accuracy Score: 0.764505119453925\n",
      " Classification Report:\n",
      "               precision    recall  f1-score   support\n",
      "\n",
      "           0       0.00      0.00      0.00        10\n",
      "           1       0.08      0.03      0.05        29\n",
      "           2       0.94      0.91      0.93       123\n",
      "           3       1.00      0.17      0.29         6\n",
      "           4       0.71      0.88      0.79       125\n",
      "\n",
      "    accuracy                           0.76       293\n",
      "   macro avg       0.55      0.40      0.41       293\n",
      "weighted avg       0.73      0.76      0.73       293\n",
      "\n",
      "GradientBoostingClassifier:\n",
      " Confusion matrix: Axes(0.125,0.11;0.31744x0.77)\n",
      " Accuracy Score: 0.7815699658703071\n",
      " Classification Report:\n",
      "               precision    recall  f1-score   support\n",
      "\n",
      "           0       0.00      0.00      0.00        10\n",
      "           1       0.09      0.03      0.05        29\n",
      "           2       0.95      0.91      0.93       123\n",
      "           3       1.00      0.33      0.50         6\n",
      "           4       0.72      0.91      0.80       125\n",
      "\n",
      "    accuracy                           0.78       293\n",
      "   macro avg       0.55      0.44      0.46       293\n",
      "weighted avg       0.73      0.78      0.75       293\n",
      "\n",
      "SGDClassifier:\n",
      " Confusion matrix: Axes(0.125,0.11;0.253952x0.77)\n",
      " Accuracy Score: 0.7508532423208191\n",
      " Classification Report:\n",
      "               precision    recall  f1-score   support\n",
      "\n",
      "           0       0.00      0.00      0.00        10\n",
      "           1       0.00      0.00      0.00        29\n",
      "           2       0.94      0.77      0.85       123\n",
      "           3       0.00      0.00      0.00         6\n",
      "           4       0.65      1.00      0.79       125\n",
      "\n",
      "    accuracy                           0.75       293\n",
      "   macro avg       0.32      0.35      0.33       293\n",
      "weighted avg       0.67      0.75      0.69       293\n",
      "\n"
     ]
    },
    {
     "name": "stderr",
     "output_type": "stream",
     "text": [
      "/opt/conda/lib/python3.10/site-packages/sklearn/metrics/_classification.py:1344: UndefinedMetricWarning: Precision and F-score are ill-defined and being set to 0.0 in labels with no predicted samples. Use `zero_division` parameter to control this behavior.\n",
      "  _warn_prf(average, modifier, msg_start, len(result))\n",
      "/opt/conda/lib/python3.10/site-packages/sklearn/metrics/_classification.py:1344: UndefinedMetricWarning: Precision and F-score are ill-defined and being set to 0.0 in labels with no predicted samples. Use `zero_division` parameter to control this behavior.\n",
      "  _warn_prf(average, modifier, msg_start, len(result))\n",
      "/opt/conda/lib/python3.10/site-packages/sklearn/metrics/_classification.py:1344: UndefinedMetricWarning: Precision and F-score are ill-defined and being set to 0.0 in labels with no predicted samples. Use `zero_division` parameter to control this behavior.\n",
      "  _warn_prf(average, modifier, msg_start, len(result))\n"
     ]
    },
    {
     "name": "stdout",
     "output_type": "stream",
     "text": [
      "KNeighborsClassifier:\n",
      " Confusion matrix: Axes(0.125,0.11;0.203162x0.77)\n",
      " Accuracy Score: 0.6689419795221843\n",
      " Classification Report:\n",
      "               precision    recall  f1-score   support\n",
      "\n",
      "           0       0.17      0.10      0.12        10\n",
      "           1       0.16      0.10      0.12        29\n",
      "           2       0.78      0.81      0.79       123\n",
      "           3       1.00      0.17      0.29         6\n",
      "           4       0.66      0.73      0.69       125\n",
      "\n",
      "    accuracy                           0.67       293\n",
      "   macro avg       0.55      0.38      0.40       293\n",
      "weighted avg       0.65      0.67      0.65       293\n",
      "\n",
      "MLPClassifier:\n",
      " Confusion matrix: Axes(0.125,0.11;0.162529x0.77)\n",
      " Accuracy Score: 0.7406143344709898\n",
      " Classification Report:\n",
      "               precision    recall  f1-score   support\n",
      "\n",
      "           0       0.00      0.00      0.00        10\n",
      "           1       0.00      0.00      0.00        29\n",
      "           2       0.86      0.83      0.84       123\n",
      "           3       1.00      0.17      0.29         6\n",
      "           4       0.67      0.91      0.77       125\n",
      "\n",
      "    accuracy                           0.74       293\n",
      "   macro avg       0.50      0.38      0.38       293\n",
      "weighted avg       0.66      0.74      0.69       293\n",
      "\n"
     ]
    },
    {
     "name": "stderr",
     "output_type": "stream",
     "text": [
      "/opt/conda/lib/python3.10/site-packages/sklearn/metrics/_classification.py:1344: UndefinedMetricWarning: Precision and F-score are ill-defined and being set to 0.0 in labels with no predicted samples. Use `zero_division` parameter to control this behavior.\n",
      "  _warn_prf(average, modifier, msg_start, len(result))\n",
      "/opt/conda/lib/python3.10/site-packages/sklearn/metrics/_classification.py:1344: UndefinedMetricWarning: Precision and F-score are ill-defined and being set to 0.0 in labels with no predicted samples. Use `zero_division` parameter to control this behavior.\n",
      "  _warn_prf(average, modifier, msg_start, len(result))\n",
      "/opt/conda/lib/python3.10/site-packages/sklearn/metrics/_classification.py:1344: UndefinedMetricWarning: Precision and F-score are ill-defined and being set to 0.0 in labels with no predicted samples. Use `zero_division` parameter to control this behavior.\n",
      "  _warn_prf(average, modifier, msg_start, len(result))\n"
     ]
    },
    {
     "name": "stdout",
     "output_type": "stream",
     "text": [
      "XGBClassifier:\n",
      " Confusion matrix: Axes(0.125,0.11;0.130023x0.77)\n",
      " Accuracy Score: 0.7679180887372014\n",
      " Classification Report:\n",
      "               precision    recall  f1-score   support\n",
      "\n",
      "           0       0.00      0.00      0.00        10\n",
      "           1       0.27      0.14      0.18        29\n",
      "           2       0.93      0.91      0.92       123\n",
      "           3       1.00      0.17      0.29         6\n",
      "           4       0.72      0.86      0.79       125\n",
      "\n",
      "    accuracy                           0.77       293\n",
      "   macro avg       0.58      0.42      0.43       293\n",
      "weighted avg       0.75      0.77      0.75       293\n",
      "\n"
     ]
    },
    {
     "data": {
      "image/png": "[encoded data removed]",
      "text/plain": [
       "<Figure size 640x480 with 9 Axes>"
      ]
     },
     "metadata": {},
     "output_type": "display_data"
    }
   ],
   "source": [
    "# Calling the pipeline function for testing different models.\n",
    "\n",
    "sc = StandardScaler() # Using StandardScaler\n",
    "models_pipline(X_train, y_train, X_test, sc)"
   ]
  },
  {
   "cell_type": "code",
   "execution_count": 18,
   "id": "53d47f48",
   "metadata": {
    "execution": {
     "iopub.execute_input": "2023-08-13T11:24:34.854071Z",
     "iopub.status.busy": "2023-08-13T11:24:34.853691Z",
     "iopub.status.idle": "2023-08-13T11:24:38.311713Z",
     "shell.execute_reply": "2023-08-13T11:24:38.310236Z"
    },
    "papermill": {
     "duration": 3.470939,
     "end_time": "2023-08-13T11:24:38.314218",
     "exception": false,
     "start_time": "2023-08-13T11:24:34.843279",
     "status": "completed"
    },
    "tags": []
   },
   "outputs": [
    {
     "name": "stderr",
     "output_type": "stream",
     "text": [
      "/opt/conda/lib/python3.10/site-packages/sklearn/neural_network/_multilayer_perceptron.py:686: ConvergenceWarning: Stochastic Optimizer: Maximum iterations (200) reached and the optimization hasn't converged yet.\n",
      "  warnings.warn(\n"
     ]
    },
    {
     "name": "stdout",
     "output_type": "stream",
     "text": [
      "DecisionTreeClassifier:\n",
      " Confusion matrix: Axes(0.125,0.11;0.62x0.77)\n",
      " Accuracy Score: 0.689419795221843\n",
      " Classification Report:\n",
      "               precision    recall  f1-score   support\n",
      "\n",
      "           0       0.00      0.00      0.00        10\n",
      "           1       0.19      0.17      0.18        29\n",
      "           2       0.92      0.89      0.91       123\n",
      "           3       0.60      0.50      0.55         6\n",
      "           4       0.70      0.67      0.69       125\n",
      "\n",
      "    accuracy                           0.69       293\n",
      "   macro avg       0.48      0.45      0.46       293\n",
      "weighted avg       0.71      0.69      0.70       293\n",
      "\n",
      "RandomForestClassifier:\n",
      " Confusion matrix: Axes(0.125,0.11;0.496x0.77)\n",
      " Accuracy Score: 0.7747440273037542\n",
      " Classification Report:\n",
      "               precision    recall  f1-score   support\n",
      "\n",
      "           0       0.00      0.00      0.00        10\n",
      "           1       0.09      0.03      0.05        29\n",
      "           2       0.97      0.91      0.94       123\n",
      "           3       1.00      0.50      0.67         6\n",
      "           4       0.70      0.89      0.78       125\n",
      "\n",
      "    accuracy                           0.77       293\n",
      "   macro avg       0.55      0.47      0.49       293\n",
      "weighted avg       0.73      0.77      0.75       293\n",
      "\n",
      "ExtraTreesClassifier:\n",
      " Confusion matrix: Axes(0.125,0.11;0.3968x0.77)\n",
      " Accuracy Score: 0.757679180887372\n",
      " Classification Report:\n",
      "               precision    recall  f1-score   support\n",
      "\n",
      "           0       0.00      0.00      0.00        10\n",
      "           1       0.09      0.03      0.05        29\n",
      "           2       0.93      0.90      0.91       123\n",
      "           3       1.00      0.17      0.29         6\n",
      "           4       0.70      0.87      0.78       125\n",
      "\n",
      "    accuracy                           0.76       293\n",
      "   macro avg       0.54      0.40      0.41       293\n",
      "weighted avg       0.72      0.76      0.73       293\n",
      "\n",
      "GradientBoostingClassifier:\n",
      " Confusion matrix: Axes(0.125,0.11;0.31744x0.77)\n",
      " Accuracy Score: 0.7815699658703071\n",
      " Classification Report:\n",
      "               precision    recall  f1-score   support\n",
      "\n",
      "           0       0.00      0.00      0.00        10\n",
      "           1       0.09      0.03      0.05        29\n",
      "           2       0.95      0.91      0.93       123\n",
      "           3       1.00      0.33      0.50         6\n",
      "           4       0.72      0.91      0.80       125\n",
      "\n",
      "    accuracy                           0.78       293\n",
      "   macro avg       0.55      0.44      0.46       293\n",
      "weighted avg       0.73      0.78      0.75       293\n",
      "\n",
      "SGDClassifier:\n",
      " Confusion matrix: Axes(0.125,0.11;0.253952x0.77)\n",
      " Accuracy Score: 0.6996587030716723\n",
      " Classification Report:\n",
      "               precision    recall  f1-score   support\n",
      "\n",
      "           0       0.00      0.00      0.00        10\n",
      "           1       0.00      0.00      0.00        29\n",
      "           2       0.74      0.84      0.79       123\n",
      "           3       0.00      0.00      0.00         6\n",
      "           4       0.66      0.82      0.73       125\n",
      "\n",
      "    accuracy                           0.70       293\n",
      "   macro avg       0.28      0.33      0.30       293\n",
      "weighted avg       0.59      0.70      0.64       293\n",
      "\n"
     ]
    },
    {
     "name": "stderr",
     "output_type": "stream",
     "text": [
      "/opt/conda/lib/python3.10/site-packages/sklearn/metrics/_classification.py:1344: UndefinedMetricWarning: Precision and F-score are ill-defined and being set to 0.0 in labels with no predicted samples. Use `zero_division` parameter to control this behavior.\n",
      "  _warn_prf(average, modifier, msg_start, len(result))\n",
      "/opt/conda/lib/python3.10/site-packages/sklearn/metrics/_classification.py:1344: UndefinedMetricWarning: Precision and F-score are ill-defined and being set to 0.0 in labels with no predicted samples. Use `zero_division` parameter to control this behavior.\n",
      "  _warn_prf(average, modifier, msg_start, len(result))\n",
      "/opt/conda/lib/python3.10/site-packages/sklearn/metrics/_classification.py:1344: UndefinedMetricWarning: Precision and F-score are ill-defined and being set to 0.0 in labels with no predicted samples. Use `zero_division` parameter to control this behavior.\n",
      "  _warn_prf(average, modifier, msg_start, len(result))\n"
     ]
    },
    {
     "name": "stdout",
     "output_type": "stream",
     "text": [
      "KNeighborsClassifier:\n",
      " Confusion matrix: Axes(0.125,0.11;0.203162x0.77)\n",
      " Accuracy Score: 0.6518771331058021\n",
      " Classification Report:\n",
      "               precision    recall  f1-score   support\n",
      "\n",
      "           0       0.20      0.10      0.13        10\n",
      "           1       0.27      0.14      0.18        29\n",
      "           2       0.73      0.78      0.76       123\n",
      "           3       1.00      0.17      0.29         6\n",
      "           4       0.63      0.71      0.67       125\n",
      "\n",
      "    accuracy                           0.65       293\n",
      "   macro avg       0.57      0.38      0.41       293\n",
      "weighted avg       0.63      0.65      0.63       293\n",
      "\n",
      "MLPClassifier:\n",
      " Confusion matrix: Axes(0.125,0.11;0.162529x0.77)\n",
      " Accuracy Score: 0.7098976109215017\n",
      " Classification Report:\n",
      "               precision    recall  f1-score   support\n",
      "\n",
      "           0       0.00      0.00      0.00        10\n",
      "           1       0.00      0.00      0.00        29\n",
      "           2       0.80      0.80      0.80       123\n",
      "           3       0.00      0.00      0.00         6\n",
      "           4       0.64      0.88      0.74       125\n",
      "\n",
      "    accuracy                           0.71       293\n",
      "   macro avg       0.29      0.34      0.31       293\n",
      "weighted avg       0.61      0.71      0.65       293\n",
      "\n"
     ]
    },
    {
     "name": "stderr",
     "output_type": "stream",
     "text": [
      "/opt/conda/lib/python3.10/site-packages/sklearn/metrics/_classification.py:1344: UndefinedMetricWarning: Precision and F-score are ill-defined and being set to 0.0 in labels with no predicted samples. Use `zero_division` parameter to control this behavior.\n",
      "  _warn_prf(average, modifier, msg_start, len(result))\n",
      "/opt/conda/lib/python3.10/site-packages/sklearn/metrics/_classification.py:1344: UndefinedMetricWarning: Precision and F-score are ill-defined and being set to 0.0 in labels with no predicted samples. Use `zero_division` parameter to control this behavior.\n",
      "  _warn_prf(average, modifier, msg_start, len(result))\n",
      "/opt/conda/lib/python3.10/site-packages/sklearn/metrics/_classification.py:1344: UndefinedMetricWarning: Precision and F-score are ill-defined and being set to 0.0 in labels with no predicted samples. Use `zero_division` parameter to control this behavior.\n",
      "  _warn_prf(average, modifier, msg_start, len(result))\n"
     ]
    },
    {
     "name": "stdout",
     "output_type": "stream",
     "text": [
      "XGBClassifier:\n",
      " Confusion matrix: Axes(0.125,0.11;0.130023x0.77)\n",
      " Accuracy Score: 0.764505119453925\n",
      " Classification Report:\n",
      "               precision    recall  f1-score   support\n",
      "\n",
      "           0       0.00      0.00      0.00        10\n",
      "           1       0.27      0.14      0.18        29\n",
      "           2       0.93      0.91      0.92       123\n",
      "           3       1.00      0.17      0.29         6\n",
      "           4       0.72      0.86      0.78       125\n",
      "\n",
      "    accuracy                           0.76       293\n",
      "   macro avg       0.58      0.41      0.43       293\n",
      "weighted avg       0.75      0.76      0.74       293\n",
      "\n"
     ]
    },
    {
     "data": {
      "image/png": "[encoded data removed]",
      "text/plain": [
       "<Figure size 640x480 with 9 Axes>"
      ]
     },
     "metadata": {},
     "output_type": "display_data"
    }
   ],
   "source": [
    "mmsc = MinMaxScaler()\n",
    "models_pipline(X_train, y_train, X_test, mmsc)"
   ]
  },
  {
   "cell_type": "markdown",
   "id": "98b5de70",
   "metadata": {
    "papermill": {
     "duration": 0.009719,
     "end_time": "2023-08-13T11:24:38.334742",
     "exception": false,
     "start_time": "2023-08-13T11:24:38.325023",
     "status": "completed"
    },
    "tags": []
   },
   "source": [
    "> ## Final to be used and checked are MLP, GBC and RandomForest"
   ]
  },
  {
   "cell_type": "code",
   "execution_count": null,
   "id": "f040386e",
   "metadata": {
    "papermill": {
     "duration": 0.010508,
     "end_time": "2023-08-13T11:24:38.356097",
     "exception": false,
     "start_time": "2023-08-13T11:24:38.345589",
     "status": "completed"
    },
    "tags": []
   },
   "outputs": [],
   "source": []
  }
 ],
 "metadata": {
  "kernelspec": {
   "display_name": "Python 3",
   "language": "python",
   "name": "python3"
  },
  "language_info": {
   "codemirror_mode": {
    "name": "ipython",
    "version": 3
   },
   "file_extension": ".py",
   "mimetype": "text/x-python",
   "name": "python",
   "nbconvert_exporter": "python",
   "pygments_lexer": "ipython3",
   "version": "3.10.12"
  },
  "papermill": {
   "default_parameters": {},
   "duration": 23.744649,
   "end_time": "2023-08-13T11:24:39.388740",
   "environment_variables": {},
   "exception": null,
   "input_path": "__notebook__.ipynb",
   "output_path": "__notebook__.ipynb",
   "parameters": {},
   "start_time": "2023-08-13T11:24:15.644091",
   "version": "2.4.0"
  }
 },
 "nbformat": 4,
 "nbformat_minor": 5
}
