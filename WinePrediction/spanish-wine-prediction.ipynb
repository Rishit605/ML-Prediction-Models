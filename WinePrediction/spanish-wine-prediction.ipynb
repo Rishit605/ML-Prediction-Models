{
 "cells": [
  {
   "cell_type": "code",
   "execution_count": 1,
   "id": "b8985a4b",
   "metadata": {
    "_cell_guid": "b1076dfc-b9ad-4769-8c92-a6c4dae69d19",
    "_uuid": "8f2839f25d086af736a60e9eeb907d3b93b6e0e5",
    "execution": {
     "iopub.execute_input": "2022-08-19T15:20:59.919090Z",
     "iopub.status.busy": "2022-08-19T15:20:59.918666Z",
     "iopub.status.idle": "2022-08-19T15:20:59.940951Z",
     "shell.execute_reply": "2022-08-19T15:20:59.939859Z"
    },
    "papermill": {
     "duration": 0.040232,
     "end_time": "2022-08-19T15:20:59.943257",
     "exception": false,
     "start_time": "2022-08-19T15:20:59.903025",
     "status": "completed"
    },
    "tags": []
   },
   "outputs": [
    {
     "name": "stdout",
     "output_type": "stream",
     "text": [
      "/kaggle/input/spanish-wine-quality-dataset/wines_SPA.csv\n"
     ]
    }
   ],
   "source": [
    "# This Python 3 environment comes with many helpful analytics libraries installed\n",
    "# It is defined by the kaggle/python Docker image: https://github.com/kaggle/docker-python\n",
    "# For example, here's several helpful packages to load\n",
    "\n",
    "import numpy as np # linear algebra\n",
    "import pandas as pd # data processing, CSV file I/O (e.g. pd.read_csv)\n",
    "\n",
    "# Input data files are available in the read-only \"../input/\" directory\n",
    "# For example, running this (by clicking run or pressing Shift+Enter) will list all files under the input directory\n",
    "\n",
    "import os\n",
    "for dirname, _, filenames in os.walk('/kaggle/input'):\n",
    "    for filename in filenames:\n",
    "        print(os.path.join(dirname, filename))\n",
    "\n",
    "# You can write up to 20GB to the current directory (/kaggle/working/) that gets preserved as output when you create a version using \"Save & Run All\" \n",
    "# You can also write temporary files to /kaggle/temp/, but they won't be saved outside of the current session"
   ]
  },
  {
   "cell_type": "markdown",
   "id": "234660b2",
   "metadata": {
    "papermill": {
     "duration": 0.0114,
     "end_time": "2022-08-19T15:20:59.965476",
     "exception": false,
     "start_time": "2022-08-19T15:20:59.954076",
     "status": "completed"
    },
    "tags": []
   },
   "source": [
    "# Importing Libraries"
   ]
  },
  {
   "cell_type": "code",
   "execution_count": 2,
   "id": "ee1d4f81",
   "metadata": {
    "execution": {
     "iopub.execute_input": "2022-08-19T15:20:59.988840Z",
     "iopub.status.busy": "2022-08-19T15:20:59.988182Z",
     "iopub.status.idle": "2022-08-19T15:21:01.370333Z",
     "shell.execute_reply": "2022-08-19T15:21:01.369465Z"
    },
    "papermill": {
     "duration": 1.396724,
     "end_time": "2022-08-19T15:21:01.372763",
     "exception": false,
     "start_time": "2022-08-19T15:20:59.976039",
     "status": "completed"
    },
    "tags": []
   },
   "outputs": [],
   "source": [
    "import seaborn as sns\n",
    "import matplotlib.pyplot as plt\n",
    "\n",
    "from sklearn.preprocessing import LabelEncoder, MinMaxScaler, OneHotEncoder, OrdinalEncoder, StandardScaler\n",
    "from mlxtend.preprocessing import minmax_scaling\n",
    "from sklearn.model_selection import train_test_split\n",
    "from sklearn.pipeline import Pipeline\n",
    "from sklearn.metrics import mean_squared_error\n",
    "\n",
    "from sklearn.linear_model import LogisticRegression, Lasso, Ridge, BayesianRidge\n",
    "from sklearn.tree import DecisionTreeRegressor\n",
    "from sklearn.svm import LinearSVR\n",
    "from sklearn.neighbors import KNeighborsRegressor\n",
    "from sklearn.ensemble import RandomForestRegressor\n",
    "from sklearn.metrics import mean_absolute_error, mean_squared_error, r2_score"
   ]
  },
  {
   "cell_type": "markdown",
   "id": "4dff86ce",
   "metadata": {
    "papermill": {
     "duration": 0.01067,
     "end_time": "2022-08-19T15:21:01.395911",
     "exception": false,
     "start_time": "2022-08-19T15:21:01.385241",
     "status": "completed"
    },
    "tags": []
   },
   "source": [
    "# Importing the Dataset"
   ]
  },
  {
   "cell_type": "code",
   "execution_count": 3,
   "id": "68a2bbd7",
   "metadata": {
    "execution": {
     "iopub.execute_input": "2022-08-19T15:21:01.421376Z",
     "iopub.status.busy": "2022-08-19T15:21:01.420623Z",
     "iopub.status.idle": "2022-08-19T15:21:01.492109Z",
     "shell.execute_reply": "2022-08-19T15:21:01.490979Z"
    },
    "papermill": {
     "duration": 0.087839,
     "end_time": "2022-08-19T15:21:01.494636",
     "exception": false,
     "start_time": "2022-08-19T15:21:01.406797",
     "status": "completed"
    },
    "tags": []
   },
   "outputs": [
    {
     "data": {
      "text/html": [
       "<div>\n",
       "<style scoped>\n",
       "    .dataframe tbody tr th:only-of-type {\n",
       "        vertical-align: middle;\n",
       "    }\n",
       "\n",
       "    .dataframe tbody tr th {\n",
       "        vertical-align: top;\n",
       "    }\n",
       "\n",
       "    .dataframe thead th {\n",
       "        text-align: right;\n",
       "    }\n",
       "</style>\n",
       "<table border=\"1\" class=\"dataframe\">\n",
       "  <thead>\n",
       "    <tr style=\"text-align: right;\">\n",
       "      <th></th>\n",
       "      <th>winery</th>\n",
       "      <th>wine</th>\n",
       "      <th>year</th>\n",
       "      <th>rating</th>\n",
       "      <th>num_reviews</th>\n",
       "      <th>country</th>\n",
       "      <th>region</th>\n",
       "      <th>price</th>\n",
       "      <th>type</th>\n",
       "      <th>body</th>\n",
       "      <th>acidity</th>\n",
       "    </tr>\n",
       "  </thead>\n",
       "  <tbody>\n",
       "    <tr>\n",
       "      <th>0</th>\n",
       "      <td>Teso La Monja</td>\n",
       "      <td>Tinto</td>\n",
       "      <td>2013</td>\n",
       "      <td>4.9</td>\n",
       "      <td>58</td>\n",
       "      <td>Espana</td>\n",
       "      <td>Toro</td>\n",
       "      <td>995.00</td>\n",
       "      <td>Toro Red</td>\n",
       "      <td>5.0</td>\n",
       "      <td>3.0</td>\n",
       "    </tr>\n",
       "    <tr>\n",
       "      <th>1</th>\n",
       "      <td>Artadi</td>\n",
       "      <td>Vina El Pison</td>\n",
       "      <td>2018</td>\n",
       "      <td>4.9</td>\n",
       "      <td>31</td>\n",
       "      <td>Espana</td>\n",
       "      <td>Vino de Espana</td>\n",
       "      <td>313.50</td>\n",
       "      <td>Tempranillo</td>\n",
       "      <td>4.0</td>\n",
       "      <td>2.0</td>\n",
       "    </tr>\n",
       "    <tr>\n",
       "      <th>2</th>\n",
       "      <td>Vega Sicilia</td>\n",
       "      <td>Unico</td>\n",
       "      <td>2009</td>\n",
       "      <td>4.8</td>\n",
       "      <td>1793</td>\n",
       "      <td>Espana</td>\n",
       "      <td>Ribera del Duero</td>\n",
       "      <td>324.95</td>\n",
       "      <td>Ribera Del Duero Red</td>\n",
       "      <td>5.0</td>\n",
       "      <td>3.0</td>\n",
       "    </tr>\n",
       "    <tr>\n",
       "      <th>3</th>\n",
       "      <td>Vega Sicilia</td>\n",
       "      <td>Unico</td>\n",
       "      <td>1999</td>\n",
       "      <td>4.8</td>\n",
       "      <td>1705</td>\n",
       "      <td>Espana</td>\n",
       "      <td>Ribera del Duero</td>\n",
       "      <td>692.96</td>\n",
       "      <td>Ribera Del Duero Red</td>\n",
       "      <td>5.0</td>\n",
       "      <td>3.0</td>\n",
       "    </tr>\n",
       "    <tr>\n",
       "      <th>4</th>\n",
       "      <td>Vega Sicilia</td>\n",
       "      <td>Unico</td>\n",
       "      <td>1996</td>\n",
       "      <td>4.8</td>\n",
       "      <td>1309</td>\n",
       "      <td>Espana</td>\n",
       "      <td>Ribera del Duero</td>\n",
       "      <td>778.06</td>\n",
       "      <td>Ribera Del Duero Red</td>\n",
       "      <td>5.0</td>\n",
       "      <td>3.0</td>\n",
       "    </tr>\n",
       "    <tr>\n",
       "      <th>...</th>\n",
       "      <td>...</td>\n",
       "      <td>...</td>\n",
       "      <td>...</td>\n",
       "      <td>...</td>\n",
       "      <td>...</td>\n",
       "      <td>...</td>\n",
       "      <td>...</td>\n",
       "      <td>...</td>\n",
       "      <td>...</td>\n",
       "      <td>...</td>\n",
       "      <td>...</td>\n",
       "    </tr>\n",
       "    <tr>\n",
       "      <th>7495</th>\n",
       "      <td>Contino</td>\n",
       "      <td>Reserva</td>\n",
       "      <td>2016</td>\n",
       "      <td>4.2</td>\n",
       "      <td>392</td>\n",
       "      <td>Espana</td>\n",
       "      <td>Rioja</td>\n",
       "      <td>19.98</td>\n",
       "      <td>Rioja Red</td>\n",
       "      <td>4.0</td>\n",
       "      <td>3.0</td>\n",
       "    </tr>\n",
       "    <tr>\n",
       "      <th>7496</th>\n",
       "      <td>Conreria d'Scala Dei</td>\n",
       "      <td>Les Brugueres</td>\n",
       "      <td>2018</td>\n",
       "      <td>4.2</td>\n",
       "      <td>390</td>\n",
       "      <td>Espana</td>\n",
       "      <td>Priorato</td>\n",
       "      <td>16.76</td>\n",
       "      <td>Priorat Red</td>\n",
       "      <td>4.0</td>\n",
       "      <td>3.0</td>\n",
       "    </tr>\n",
       "    <tr>\n",
       "      <th>7497</th>\n",
       "      <td>Mustiguillo</td>\n",
       "      <td>Finca Terrerazo</td>\n",
       "      <td>2017</td>\n",
       "      <td>4.2</td>\n",
       "      <td>390</td>\n",
       "      <td>Espana</td>\n",
       "      <td>El Terrerazo</td>\n",
       "      <td>24.45</td>\n",
       "      <td>Red</td>\n",
       "      <td>4.0</td>\n",
       "      <td>3.0</td>\n",
       "    </tr>\n",
       "    <tr>\n",
       "      <th>7498</th>\n",
       "      <td>Matarromera</td>\n",
       "      <td>Gran Reserva</td>\n",
       "      <td>2011</td>\n",
       "      <td>4.2</td>\n",
       "      <td>389</td>\n",
       "      <td>Espana</td>\n",
       "      <td>Ribera del Duero</td>\n",
       "      <td>64.50</td>\n",
       "      <td>Ribera Del Duero Red</td>\n",
       "      <td>5.0</td>\n",
       "      <td>3.0</td>\n",
       "    </tr>\n",
       "    <tr>\n",
       "      <th>7499</th>\n",
       "      <td>Sei Solo</td>\n",
       "      <td>Preludio</td>\n",
       "      <td>2016</td>\n",
       "      <td>4.2</td>\n",
       "      <td>388</td>\n",
       "      <td>Espana</td>\n",
       "      <td>Ribera del Duero</td>\n",
       "      <td>31.63</td>\n",
       "      <td>Ribera Del Duero Red</td>\n",
       "      <td>5.0</td>\n",
       "      <td>3.0</td>\n",
       "    </tr>\n",
       "  </tbody>\n",
       "</table>\n",
       "<p>7500 rows × 11 columns</p>\n",
       "</div>"
      ],
      "text/plain": [
       "                    winery             wine  year  rating  num_reviews  \\\n",
       "0            Teso La Monja            Tinto  2013     4.9           58   \n",
       "1                   Artadi    Vina El Pison  2018     4.9           31   \n",
       "2             Vega Sicilia            Unico  2009     4.8         1793   \n",
       "3             Vega Sicilia            Unico  1999     4.8         1705   \n",
       "4             Vega Sicilia            Unico  1996     4.8         1309   \n",
       "...                    ...              ...   ...     ...          ...   \n",
       "7495               Contino          Reserva  2016     4.2          392   \n",
       "7496  Conreria d'Scala Dei    Les Brugueres  2018     4.2          390   \n",
       "7497           Mustiguillo  Finca Terrerazo  2017     4.2          390   \n",
       "7498           Matarromera     Gran Reserva  2011     4.2          389   \n",
       "7499              Sei Solo         Preludio  2016     4.2          388   \n",
       "\n",
       "     country            region   price                  type  body  acidity  \n",
       "0     Espana              Toro  995.00              Toro Red   5.0      3.0  \n",
       "1     Espana    Vino de Espana  313.50           Tempranillo   4.0      2.0  \n",
       "2     Espana  Ribera del Duero  324.95  Ribera Del Duero Red   5.0      3.0  \n",
       "3     Espana  Ribera del Duero  692.96  Ribera Del Duero Red   5.0      3.0  \n",
       "4     Espana  Ribera del Duero  778.06  Ribera Del Duero Red   5.0      3.0  \n",
       "...      ...               ...     ...                   ...   ...      ...  \n",
       "7495  Espana             Rioja   19.98             Rioja Red   4.0      3.0  \n",
       "7496  Espana          Priorato   16.76           Priorat Red   4.0      3.0  \n",
       "7497  Espana      El Terrerazo   24.45                   Red   4.0      3.0  \n",
       "7498  Espana  Ribera del Duero   64.50  Ribera Del Duero Red   5.0      3.0  \n",
       "7499  Espana  Ribera del Duero   31.63  Ribera Del Duero Red   5.0      3.0  \n",
       "\n",
       "[7500 rows x 11 columns]"
      ]
     },
     "execution_count": 3,
     "metadata": {},
     "output_type": "execute_result"
    }
   ],
   "source": [
    "df = pd.read_csv('../input/spanish-wine-quality-dataset/wines_SPA.csv')\n",
    "df"
   ]
  },
  {
   "cell_type": "markdown",
   "id": "bca2fa2d",
   "metadata": {
    "papermill": {
     "duration": 0.011598,
     "end_time": "2022-08-19T15:21:01.518584",
     "exception": false,
     "start_time": "2022-08-19T15:21:01.506986",
     "status": "completed"
    },
    "tags": []
   },
   "source": [
    "## Checking for Missing Data"
   ]
  },
  {
   "cell_type": "code",
   "execution_count": 4,
   "id": "e2ae4194",
   "metadata": {
    "execution": {
     "iopub.execute_input": "2022-08-19T15:21:01.544525Z",
     "iopub.status.busy": "2022-08-19T15:21:01.543771Z",
     "iopub.status.idle": "2022-08-19T15:21:01.555032Z",
     "shell.execute_reply": "2022-08-19T15:21:01.553831Z"
    },
    "papermill": {
     "duration": 0.026943,
     "end_time": "2022-08-19T15:21:01.557469",
     "exception": false,
     "start_time": "2022-08-19T15:21:01.530526",
     "status": "completed"
    },
    "tags": []
   },
   "outputs": [
    {
     "data": {
      "text/plain": [
       "winery            0\n",
       "wine              0\n",
       "year              2\n",
       "rating            0\n",
       "num_reviews       0\n",
       "country           0\n",
       "region            0\n",
       "price             0\n",
       "type            545\n",
       "body           1169\n",
       "acidity        1169\n",
       "dtype: int64"
      ]
     },
     "execution_count": 4,
     "metadata": {},
     "output_type": "execute_result"
    }
   ],
   "source": [
    "df.isnull().sum()"
   ]
  },
  {
   "cell_type": "code",
   "execution_count": 5,
   "id": "6b09e2b7",
   "metadata": {
    "execution": {
     "iopub.execute_input": "2022-08-19T15:21:01.583699Z",
     "iopub.status.busy": "2022-08-19T15:21:01.583019Z",
     "iopub.status.idle": "2022-08-19T15:21:01.894196Z",
     "shell.execute_reply": "2022-08-19T15:21:01.893075Z"
    },
    "papermill": {
     "duration": 0.327035,
     "end_time": "2022-08-19T15:21:01.896581",
     "exception": false,
     "start_time": "2022-08-19T15:21:01.569546",
     "status": "completed"
    },
    "tags": []
   },
   "outputs": [
    {
     "data": {
      "image/png": "[encoded data removed]",
      "text/plain": [
       "<Figure size 432x288 with 2 Axes>"
      ]
     },
     "metadata": {
      "needs_background": "light"
     },
     "output_type": "display_data"
    }
   ],
   "source": [
    "# Missing Values Visualization\n",
    "\n",
    "plt.title('Missing Values', fontweight='bold')\n",
    "ax = sns.heatmap(df.isna().sum().to_frame(), annot = True, fmt = 'd', cmap='vlag')\n",
    "ax.set_xlabel('Amount Missing')\n",
    "plt.show()"
   ]
  },
  {
   "cell_type": "markdown",
   "id": "5a30a99a",
   "metadata": {
    "papermill": {
     "duration": 0.011419,
     "end_time": "2022-08-19T15:21:01.919867",
     "exception": false,
     "start_time": "2022-08-19T15:21:01.908448",
     "status": "completed"
    },
    "tags": []
   },
   "source": [
    "# Data Visualization"
   ]
  },
  {
   "cell_type": "code",
   "execution_count": 6,
   "id": "f6c2a1a1",
   "metadata": {
    "execution": {
     "iopub.execute_input": "2022-08-19T15:21:01.946417Z",
     "iopub.status.busy": "2022-08-19T15:21:01.945767Z",
     "iopub.status.idle": "2022-08-19T15:21:01.960252Z",
     "shell.execute_reply": "2022-08-19T15:21:01.959058Z"
    },
    "papermill": {
     "duration": 0.032986,
     "end_time": "2022-08-19T15:21:01.964518",
     "exception": false,
     "start_time": "2022-08-19T15:21:01.931532",
     "status": "completed"
    },
    "tags": []
   },
   "outputs": [
    {
     "data": {
      "text/plain": [
       "array(['2013', '2018', '2009', '1999', '1996', '1998', '2010', '1995',\n",
       "       '2015', '2011', '2016', '1970', '1946', '1962', '2019', '2004',\n",
       "       'N.V.', '1931', '1979', '2005', '2020', '2014', '1985', '1929',\n",
       "       '2007', '2012', '2017', '2008', nan, '2006', '2000', '2003',\n",
       "       '2002', '1991', '1994', '1990', '1989', '1987', '1986', '1981',\n",
       "       '2001', '1968', '1964', '1982', '1974', '1983', '1955', '1980',\n",
       "       '1972', '1953', '1958', '1942', '1965', '1992', '1973', '1997',\n",
       "       '1967', '1975', '1910', '1961', '1954', '1988', '1969', '1951',\n",
       "       '1928', '1976', '1949', '2021', '1959', '1922', '1978', '1925'],\n",
       "      dtype=object)"
      ]
     },
     "execution_count": 6,
     "metadata": {},
     "output_type": "execute_result"
    }
   ],
   "source": [
    "df.year.unique()"
   ]
  },
  {
   "cell_type": "code",
   "execution_count": 7,
   "id": "07341bc4",
   "metadata": {
    "execution": {
     "iopub.execute_input": "2022-08-19T15:21:01.995201Z",
     "iopub.status.busy": "2022-08-19T15:21:01.993942Z",
     "iopub.status.idle": "2022-08-19T15:21:03.103457Z",
     "shell.execute_reply": "2022-08-19T15:21:03.102151Z"
    },
    "papermill": {
     "duration": 1.126749,
     "end_time": "2022-08-19T15:21:03.106605",
     "exception": false,
     "start_time": "2022-08-19T15:21:01.979856",
     "status": "completed"
    },
    "tags": []
   },
   "outputs": [
    {
     "data": {
      "text/plain": [
       "<AxesSubplot:xlabel='price', ylabel='region'>"
      ]
     },
     "execution_count": 7,
     "metadata": {},
     "output_type": "execute_result"
    },
    {
     "data": {
      "image/png": "[encoded data removed]",
      "text/plain": [
       "<Figure size 432x288 with 1 Axes>"
      ]
     },
     "metadata": {},
     "output_type": "display_data"
    }
   ],
   "source": [
    "sns.set_theme(style=\"white\")\n",
    "\n",
    "sns.scatterplot(data=df, x = 'price', y = 'region', hue='rating', palette=\"light:m_r\",legend=False)"
   ]
  },
  {
   "cell_type": "code",
   "execution_count": 8,
   "id": "6a076259",
   "metadata": {
    "execution": {
     "iopub.execute_input": "2022-08-19T15:21:03.137509Z",
     "iopub.status.busy": "2022-08-19T15:21:03.136747Z",
     "iopub.status.idle": "2022-08-19T15:21:05.629444Z",
     "shell.execute_reply": "2022-08-19T15:21:05.628224Z"
    },
    "papermill": {
     "duration": 2.511094,
     "end_time": "2022-08-19T15:21:05.632148",
     "exception": false,
     "start_time": "2022-08-19T15:21:03.121054",
     "status": "completed"
    },
    "tags": []
   },
   "outputs": [
    {
     "data": {
      "text/plain": [
       "<AxesSubplot:xlabel='region', ylabel='price'>"
      ]
     },
     "execution_count": 8,
     "metadata": {},
     "output_type": "execute_result"
    },
    {
     "data": {
      "image/png": "[encoded data removed]",
      "text/plain": [
       "<Figure size 432x288 with 1 Axes>"
      ]
     },
     "metadata": {},
     "output_type": "display_data"
    }
   ],
   "source": [
    "sns.histplot(df, x = 'region', y = 'price',hue='rating', linewidth=.5, multiple=\"stack\", legend=False)"
   ]
  },
  {
   "cell_type": "code",
   "execution_count": 9,
   "id": "65d7413e",
   "metadata": {
    "execution": {
     "iopub.execute_input": "2022-08-19T15:21:05.663204Z",
     "iopub.status.busy": "2022-08-19T15:21:05.662804Z",
     "iopub.status.idle": "2022-08-19T15:21:06.251498Z",
     "shell.execute_reply": "2022-08-19T15:21:06.250404Z"
    },
    "papermill": {
     "duration": 0.607124,
     "end_time": "2022-08-19T15:21:06.253953",
     "exception": false,
     "start_time": "2022-08-19T15:21:05.646829",
     "status": "completed"
    },
    "tags": []
   },
   "outputs": [
    {
     "data": {
      "text/plain": [
       "<seaborn.axisgrid.FacetGrid at 0x7fb33bcf2c90>"
      ]
     },
     "execution_count": 9,
     "metadata": {},
     "output_type": "execute_result"
    },
    {
     "data": {
      "image/png": "[encoded data removed]",
      "text/plain": [
       "<Figure size 432x432 with 1 Axes>"
      ]
     },
     "metadata": {},
     "output_type": "display_data"
    }
   ],
   "source": [
    "cmap = sns.cubehelix_palette(rot=-.2, as_cmap=True)\n",
    "\n",
    "sns.relplot(x='price',y='type',hue='region',size='num_reviews', sizes=(40, 400), alpha=.5, palette=\"muted\",height=6,data=df, legend=False)"
   ]
  },
  {
   "cell_type": "code",
   "execution_count": 10,
   "id": "0f054183",
   "metadata": {
    "execution": {
     "iopub.execute_input": "2022-08-19T15:21:06.286408Z",
     "iopub.status.busy": "2022-08-19T15:21:06.285766Z",
     "iopub.status.idle": "2022-08-19T15:21:07.587633Z",
     "shell.execute_reply": "2022-08-19T15:21:07.586576Z"
    },
    "papermill": {
     "duration": 1.320439,
     "end_time": "2022-08-19T15:21:07.589877",
     "exception": false,
     "start_time": "2022-08-19T15:21:06.269438",
     "status": "completed"
    },
    "tags": []
   },
   "outputs": [
    {
     "data": {
      "text/plain": [
       "<AxesSubplot:xlabel='price', ylabel='type'>"
      ]
     },
     "execution_count": 10,
     "metadata": {},
     "output_type": "execute_result"
    },
    {
     "data": {
      "image/png": "[encoded data removed]",
      "text/plain": [
       "<Figure size 432x288 with 1 Axes>"
      ]
     },
     "metadata": {},
     "output_type": "display_data"
    }
   ],
   "source": [
    "sns.scatterplot(x='price',y='type',hue='region',data=df, legend=False)\n",
    "sns.rugplot(x='price',y='type',hue='region',data=df, legend=False)"
   ]
  },
  {
   "cell_type": "markdown",
   "id": "4cbfdd7f",
   "metadata": {
    "papermill": {
     "duration": 0.014772,
     "end_time": "2022-08-19T15:21:07.619700",
     "exception": false,
     "start_time": "2022-08-19T15:21:07.604928",
     "status": "completed"
    },
    "tags": []
   },
   "source": [
    "## Imputing or Dropping the Missing Data\n",
    "\n",
    "> Imputing the Categorical Values manually if needed."
   ]
  },
  {
   "cell_type": "code",
   "execution_count": 11,
   "id": "8f4ad441",
   "metadata": {
    "execution": {
     "iopub.execute_input": "2022-08-19T15:21:07.652626Z",
     "iopub.status.busy": "2022-08-19T15:21:07.651908Z",
     "iopub.status.idle": "2022-08-19T15:21:07.658420Z",
     "shell.execute_reply": "2022-08-19T15:21:07.657546Z"
    },
    "papermill": {
     "duration": 0.025682,
     "end_time": "2022-08-19T15:21:07.660488",
     "exception": false,
     "start_time": "2022-08-19T15:21:07.634806",
     "status": "completed"
    },
    "tags": []
   },
   "outputs": [],
   "source": [
    "df = df.drop(columns=['country'])"
   ]
  },
  {
   "cell_type": "code",
   "execution_count": 12,
   "id": "72298752",
   "metadata": {
    "execution": {
     "iopub.execute_input": "2022-08-19T15:21:07.692500Z",
     "iopub.status.busy": "2022-08-19T15:21:07.691781Z",
     "iopub.status.idle": "2022-08-19T15:21:07.701977Z",
     "shell.execute_reply": "2022-08-19T15:21:07.701179Z"
    },
    "papermill": {
     "duration": 0.028359,
     "end_time": "2022-08-19T15:21:07.703979",
     "exception": false,
     "start_time": "2022-08-19T15:21:07.675620",
     "status": "completed"
    },
    "tags": []
   },
   "outputs": [
    {
     "data": {
      "text/plain": [
       "winery            0\n",
       "wine              0\n",
       "year              2\n",
       "rating            0\n",
       "num_reviews       0\n",
       "region            0\n",
       "price             0\n",
       "type            545\n",
       "body           1169\n",
       "acidity        1169\n",
       "dtype: int64"
      ]
     },
     "execution_count": 12,
     "metadata": {},
     "output_type": "execute_result"
    }
   ],
   "source": [
    "df.isnull().sum()"
   ]
  },
  {
   "cell_type": "code",
   "execution_count": 13,
   "id": "1bd72137",
   "metadata": {
    "execution": {
     "iopub.execute_input": "2022-08-19T15:21:07.736261Z",
     "iopub.status.busy": "2022-08-19T15:21:07.735500Z",
     "iopub.status.idle": "2022-08-19T15:21:07.744612Z",
     "shell.execute_reply": "2022-08-19T15:21:07.743807Z"
    },
    "papermill": {
     "duration": 0.027621,
     "end_time": "2022-08-19T15:21:07.746694",
     "exception": false,
     "start_time": "2022-08-19T15:21:07.719073",
     "status": "completed"
    },
    "tags": []
   },
   "outputs": [],
   "source": [
    "df = df.dropna()"
   ]
  },
  {
   "cell_type": "markdown",
   "id": "8ccddf93",
   "metadata": {
    "papermill": {
     "duration": 0.014417,
     "end_time": "2022-08-19T15:21:07.776056",
     "exception": false,
     "start_time": "2022-08-19T15:21:07.761639",
     "status": "completed"
    },
    "tags": []
   },
   "source": [
    "# Data Manipulation"
   ]
  },
  {
   "cell_type": "code",
   "execution_count": 14,
   "id": "a5a3152b",
   "metadata": {
    "execution": {
     "iopub.execute_input": "2022-08-19T15:21:07.807773Z",
     "iopub.status.busy": "2022-08-19T15:21:07.807033Z",
     "iopub.status.idle": "2022-08-19T15:21:07.829183Z",
     "shell.execute_reply": "2022-08-19T15:21:07.828031Z"
    },
    "papermill": {
     "duration": 0.040383,
     "end_time": "2022-08-19T15:21:07.831354",
     "exception": false,
     "start_time": "2022-08-19T15:21:07.790971",
     "status": "completed"
    },
    "tags": []
   },
   "outputs": [
    {
     "data": {
      "text/html": [
       "<div>\n",
       "<style scoped>\n",
       "    .dataframe tbody tr th:only-of-type {\n",
       "        vertical-align: middle;\n",
       "    }\n",
       "\n",
       "    .dataframe tbody tr th {\n",
       "        vertical-align: top;\n",
       "    }\n",
       "\n",
       "    .dataframe thead th {\n",
       "        text-align: right;\n",
       "    }\n",
       "</style>\n",
       "<table border=\"1\" class=\"dataframe\">\n",
       "  <thead>\n",
       "    <tr style=\"text-align: right;\">\n",
       "      <th></th>\n",
       "      <th>winery</th>\n",
       "      <th>wine</th>\n",
       "      <th>year</th>\n",
       "      <th>rating</th>\n",
       "      <th>num_reviews</th>\n",
       "      <th>region</th>\n",
       "      <th>price</th>\n",
       "      <th>type</th>\n",
       "      <th>body</th>\n",
       "      <th>acidity</th>\n",
       "    </tr>\n",
       "  </thead>\n",
       "  <tbody>\n",
       "    <tr>\n",
       "      <th>0</th>\n",
       "      <td>Teso La Monja</td>\n",
       "      <td>Tinto</td>\n",
       "      <td>2013</td>\n",
       "      <td>4.9</td>\n",
       "      <td>58</td>\n",
       "      <td>Toro</td>\n",
       "      <td>995.00</td>\n",
       "      <td>Toro Red</td>\n",
       "      <td>5.0</td>\n",
       "      <td>3.0</td>\n",
       "    </tr>\n",
       "    <tr>\n",
       "      <th>1</th>\n",
       "      <td>Artadi</td>\n",
       "      <td>Vina El Pison</td>\n",
       "      <td>2018</td>\n",
       "      <td>4.9</td>\n",
       "      <td>31</td>\n",
       "      <td>Vino de Espana</td>\n",
       "      <td>313.50</td>\n",
       "      <td>Tempranillo</td>\n",
       "      <td>4.0</td>\n",
       "      <td>2.0</td>\n",
       "    </tr>\n",
       "    <tr>\n",
       "      <th>2</th>\n",
       "      <td>Vega Sicilia</td>\n",
       "      <td>Unico</td>\n",
       "      <td>2009</td>\n",
       "      <td>4.8</td>\n",
       "      <td>1793</td>\n",
       "      <td>Ribera del Duero</td>\n",
       "      <td>324.95</td>\n",
       "      <td>Ribera Del Duero Red</td>\n",
       "      <td>5.0</td>\n",
       "      <td>3.0</td>\n",
       "    </tr>\n",
       "    <tr>\n",
       "      <th>3</th>\n",
       "      <td>Vega Sicilia</td>\n",
       "      <td>Unico</td>\n",
       "      <td>1999</td>\n",
       "      <td>4.8</td>\n",
       "      <td>1705</td>\n",
       "      <td>Ribera del Duero</td>\n",
       "      <td>692.96</td>\n",
       "      <td>Ribera Del Duero Red</td>\n",
       "      <td>5.0</td>\n",
       "      <td>3.0</td>\n",
       "    </tr>\n",
       "    <tr>\n",
       "      <th>4</th>\n",
       "      <td>Vega Sicilia</td>\n",
       "      <td>Unico</td>\n",
       "      <td>1996</td>\n",
       "      <td>4.8</td>\n",
       "      <td>1309</td>\n",
       "      <td>Ribera del Duero</td>\n",
       "      <td>778.06</td>\n",
       "      <td>Ribera Del Duero Red</td>\n",
       "      <td>5.0</td>\n",
       "      <td>3.0</td>\n",
       "    </tr>\n",
       "    <tr>\n",
       "      <th>...</th>\n",
       "      <td>...</td>\n",
       "      <td>...</td>\n",
       "      <td>...</td>\n",
       "      <td>...</td>\n",
       "      <td>...</td>\n",
       "      <td>...</td>\n",
       "      <td>...</td>\n",
       "      <td>...</td>\n",
       "      <td>...</td>\n",
       "      <td>...</td>\n",
       "    </tr>\n",
       "    <tr>\n",
       "      <th>7495</th>\n",
       "      <td>Contino</td>\n",
       "      <td>Reserva</td>\n",
       "      <td>2016</td>\n",
       "      <td>4.2</td>\n",
       "      <td>392</td>\n",
       "      <td>Rioja</td>\n",
       "      <td>19.98</td>\n",
       "      <td>Rioja Red</td>\n",
       "      <td>4.0</td>\n",
       "      <td>3.0</td>\n",
       "    </tr>\n",
       "    <tr>\n",
       "      <th>7496</th>\n",
       "      <td>Conreria d'Scala Dei</td>\n",
       "      <td>Les Brugueres</td>\n",
       "      <td>2018</td>\n",
       "      <td>4.2</td>\n",
       "      <td>390</td>\n",
       "      <td>Priorato</td>\n",
       "      <td>16.76</td>\n",
       "      <td>Priorat Red</td>\n",
       "      <td>4.0</td>\n",
       "      <td>3.0</td>\n",
       "    </tr>\n",
       "    <tr>\n",
       "      <th>7497</th>\n",
       "      <td>Mustiguillo</td>\n",
       "      <td>Finca Terrerazo</td>\n",
       "      <td>2017</td>\n",
       "      <td>4.2</td>\n",
       "      <td>390</td>\n",
       "      <td>El Terrerazo</td>\n",
       "      <td>24.45</td>\n",
       "      <td>Red</td>\n",
       "      <td>4.0</td>\n",
       "      <td>3.0</td>\n",
       "    </tr>\n",
       "    <tr>\n",
       "      <th>7498</th>\n",
       "      <td>Matarromera</td>\n",
       "      <td>Gran Reserva</td>\n",
       "      <td>2011</td>\n",
       "      <td>4.2</td>\n",
       "      <td>389</td>\n",
       "      <td>Ribera del Duero</td>\n",
       "      <td>64.50</td>\n",
       "      <td>Ribera Del Duero Red</td>\n",
       "      <td>5.0</td>\n",
       "      <td>3.0</td>\n",
       "    </tr>\n",
       "    <tr>\n",
       "      <th>7499</th>\n",
       "      <td>Sei Solo</td>\n",
       "      <td>Preludio</td>\n",
       "      <td>2016</td>\n",
       "      <td>4.2</td>\n",
       "      <td>388</td>\n",
       "      <td>Ribera del Duero</td>\n",
       "      <td>31.63</td>\n",
       "      <td>Ribera Del Duero Red</td>\n",
       "      <td>5.0</td>\n",
       "      <td>3.0</td>\n",
       "    </tr>\n",
       "  </tbody>\n",
       "</table>\n",
       "<p>6329 rows × 10 columns</p>\n",
       "</div>"
      ],
      "text/plain": [
       "                    winery             wine  year  rating  num_reviews  \\\n",
       "0            Teso La Monja            Tinto  2013     4.9           58   \n",
       "1                   Artadi    Vina El Pison  2018     4.9           31   \n",
       "2             Vega Sicilia            Unico  2009     4.8         1793   \n",
       "3             Vega Sicilia            Unico  1999     4.8         1705   \n",
       "4             Vega Sicilia            Unico  1996     4.8         1309   \n",
       "...                    ...              ...   ...     ...          ...   \n",
       "7495               Contino          Reserva  2016     4.2          392   \n",
       "7496  Conreria d'Scala Dei    Les Brugueres  2018     4.2          390   \n",
       "7497           Mustiguillo  Finca Terrerazo  2017     4.2          390   \n",
       "7498           Matarromera     Gran Reserva  2011     4.2          389   \n",
       "7499              Sei Solo         Preludio  2016     4.2          388   \n",
       "\n",
       "                region   price                  type  body  acidity  \n",
       "0                 Toro  995.00              Toro Red   5.0      3.0  \n",
       "1       Vino de Espana  313.50           Tempranillo   4.0      2.0  \n",
       "2     Ribera del Duero  324.95  Ribera Del Duero Red   5.0      3.0  \n",
       "3     Ribera del Duero  692.96  Ribera Del Duero Red   5.0      3.0  \n",
       "4     Ribera del Duero  778.06  Ribera Del Duero Red   5.0      3.0  \n",
       "...                ...     ...                   ...   ...      ...  \n",
       "7495             Rioja   19.98             Rioja Red   4.0      3.0  \n",
       "7496          Priorato   16.76           Priorat Red   4.0      3.0  \n",
       "7497      El Terrerazo   24.45                   Red   4.0      3.0  \n",
       "7498  Ribera del Duero   64.50  Ribera Del Duero Red   5.0      3.0  \n",
       "7499  Ribera del Duero   31.63  Ribera Del Duero Red   5.0      3.0  \n",
       "\n",
       "[6329 rows x 10 columns]"
      ]
     },
     "execution_count": 14,
     "metadata": {},
     "output_type": "execute_result"
    }
   ],
   "source": [
    "df"
   ]
  },
  {
   "cell_type": "code",
   "execution_count": 15,
   "id": "d6dbbb6f",
   "metadata": {
    "execution": {
     "iopub.execute_input": "2022-08-19T15:21:07.863889Z",
     "iopub.status.busy": "2022-08-19T15:21:07.863160Z",
     "iopub.status.idle": "2022-08-19T15:21:07.869473Z",
     "shell.execute_reply": "2022-08-19T15:21:07.868614Z"
    },
    "papermill": {
     "duration": 0.024829,
     "end_time": "2022-08-19T15:21:07.871497",
     "exception": false,
     "start_time": "2022-08-19T15:21:07.846668",
     "status": "completed"
    },
    "tags": []
   },
   "outputs": [],
   "source": [
    "df['year'] = df.year.replace({'N.V.': 'NaN'})\n",
    "# df['year'] = df['year'].astype(np.int64)"
   ]
  },
  {
   "cell_type": "code",
   "execution_count": 16,
   "id": "a0be14e2",
   "metadata": {
    "execution": {
     "iopub.execute_input": "2022-08-19T15:21:07.904113Z",
     "iopub.status.busy": "2022-08-19T15:21:07.903265Z",
     "iopub.status.idle": "2022-08-19T15:21:07.911592Z",
     "shell.execute_reply": "2022-08-19T15:21:07.910672Z"
    },
    "papermill": {
     "duration": 0.027395,
     "end_time": "2022-08-19T15:21:07.913956",
     "exception": false,
     "start_time": "2022-08-19T15:21:07.886561",
     "status": "completed"
    },
    "tags": []
   },
   "outputs": [
    {
     "data": {
      "text/plain": [
       "array(['2013', '2018', '2009', '1999', '1996', '1998', '2010', '1995',\n",
       "       '2015', '2011', '2016', '1970', '1946', '1962', '2019', '2004',\n",
       "       'NaN', '1931', '1979', '2005', '2020', '2014', '1985', '1929',\n",
       "       '2007', '2012', '2017', '2008', '2006', '2000', '2003', '2002',\n",
       "       '1991', '1994', '1990', '1989', '1987', '1986', '1981', '2001',\n",
       "       '1968', '1964', '1982', '1974', '1983', '1955', '1980', '1972',\n",
       "       '1953', '1958', '1942', '1965', '1992', '1973', '1997', '1967',\n",
       "       '1975', '1910', '1961', '1954', '1988', '1969', '1951', '1928',\n",
       "       '1976', '1949', '2021', '1959', '1922', '1978', '1925'],\n",
       "      dtype=object)"
      ]
     },
     "execution_count": 16,
     "metadata": {},
     "output_type": "execute_result"
    }
   ],
   "source": [
    "df.year.unique()"
   ]
  },
  {
   "cell_type": "code",
   "execution_count": 17,
   "id": "c9a3594c",
   "metadata": {
    "execution": {
     "iopub.execute_input": "2022-08-19T15:21:07.949920Z",
     "iopub.status.busy": "2022-08-19T15:21:07.949119Z",
     "iopub.status.idle": "2022-08-19T15:21:07.958693Z",
     "shell.execute_reply": "2022-08-19T15:21:07.957785Z"
    },
    "papermill": {
     "duration": 0.030169,
     "end_time": "2022-08-19T15:21:07.960998",
     "exception": false,
     "start_time": "2022-08-19T15:21:07.930829",
     "status": "completed"
    },
    "tags": []
   },
   "outputs": [],
   "source": [
    "df = df.dropna()"
   ]
  },
  {
   "cell_type": "code",
   "execution_count": 18,
   "id": "2760dc25",
   "metadata": {
    "execution": {
     "iopub.execute_input": "2022-08-19T15:21:07.996988Z",
     "iopub.status.busy": "2022-08-19T15:21:07.996311Z",
     "iopub.status.idle": "2022-08-19T15:21:08.006451Z",
     "shell.execute_reply": "2022-08-19T15:21:08.005494Z"
    },
    "papermill": {
     "duration": 0.030466,
     "end_time": "2022-08-19T15:21:08.008421",
     "exception": false,
     "start_time": "2022-08-19T15:21:07.977955",
     "status": "completed"
    },
    "tags": []
   },
   "outputs": [
    {
     "data": {
      "text/plain": [
       "winery         0\n",
       "wine           0\n",
       "year           0\n",
       "rating         0\n",
       "num_reviews    0\n",
       "region         0\n",
       "price          0\n",
       "type           0\n",
       "body           0\n",
       "acidity        0\n",
       "dtype: int64"
      ]
     },
     "execution_count": 18,
     "metadata": {},
     "output_type": "execute_result"
    }
   ],
   "source": [
    "df.isnull().sum()"
   ]
  },
  {
   "cell_type": "markdown",
   "id": "c04f47e3",
   "metadata": {
    "papermill": {
     "duration": 0.015873,
     "end_time": "2022-08-19T15:21:08.039759",
     "exception": false,
     "start_time": "2022-08-19T15:21:08.023886",
     "status": "completed"
    },
    "tags": []
   },
   "source": [
    "> # Handling Categorical Values"
   ]
  },
  {
   "cell_type": "markdown",
   "id": "ebba1f1f",
   "metadata": {
    "papermill": {
     "duration": 0.01665,
     "end_time": "2022-08-19T15:21:08.073496",
     "exception": false,
     "start_time": "2022-08-19T15:21:08.056846",
     "status": "completed"
    },
    "tags": []
   },
   "source": [
    "> ## Using Label Encoding"
   ]
  },
  {
   "cell_type": "code",
   "execution_count": 19,
   "id": "f4ce3731",
   "metadata": {
    "execution": {
     "iopub.execute_input": "2022-08-19T15:21:08.109632Z",
     "iopub.status.busy": "2022-08-19T15:21:08.108931Z",
     "iopub.status.idle": "2022-08-19T15:21:08.113839Z",
     "shell.execute_reply": "2022-08-19T15:21:08.113002Z"
    },
    "papermill": {
     "duration": 0.025404,
     "end_time": "2022-08-19T15:21:08.115961",
     "exception": false,
     "start_time": "2022-08-19T15:21:08.090557",
     "status": "completed"
    },
    "tags": []
   },
   "outputs": [],
   "source": [
    "# X_train = pd.DataFrame()\n",
    "# labenc = LabelEncoder()\n",
    "\n",
    "# for c in  y.columns:\n",
    "#     if(y[c].dtype=='object'):\n",
    "#         X_train[c]=labenc.fit_transform(y[c])\n",
    "#     else:\n",
    "#         X_train[c]=y[c]\n",
    "        \n",
    "# X_train.head(25)   \n",
    "\n",
    "# y = labenc.fit_transform(y)"
   ]
  },
  {
   "cell_type": "code",
   "execution_count": 20,
   "id": "762db982",
   "metadata": {
    "execution": {
     "iopub.execute_input": "2022-08-19T15:21:08.151200Z",
     "iopub.status.busy": "2022-08-19T15:21:08.150748Z",
     "iopub.status.idle": "2022-08-19T15:21:08.172082Z",
     "shell.execute_reply": "2022-08-19T15:21:08.170859Z"
    },
    "papermill": {
     "duration": 0.04173,
     "end_time": "2022-08-19T15:21:08.174448",
     "exception": false,
     "start_time": "2022-08-19T15:21:08.132718",
     "status": "completed"
    },
    "tags": []
   },
   "outputs": [
    {
     "name": "stdout",
     "output_type": "stream",
     "text": [
      "Categorical columns: \n",
      "winery\n",
      "wine\n",
      "year\n",
      "region\n",
      "type\n"
     ]
    }
   ],
   "source": [
    "import sys\n",
    "\n",
    "print('Categorical columns: ')\n",
    "for col in df.columns:\n",
    "    if df[col].dtype == 'object':\n",
    "        print(str(col))\n",
    "        label = LabelEncoder()\n",
    "        label = label.fit(df[col])\n",
    "        df[col] = label.transform(df[col].astype(str))"
   ]
  },
  {
   "cell_type": "code",
   "execution_count": 21,
   "id": "251f2093",
   "metadata": {
    "execution": {
     "iopub.execute_input": "2022-08-19T15:21:08.207520Z",
     "iopub.status.busy": "2022-08-19T15:21:08.207148Z",
     "iopub.status.idle": "2022-08-19T15:21:08.229452Z",
     "shell.execute_reply": "2022-08-19T15:21:08.228286Z"
    },
    "papermill": {
     "duration": 0.041385,
     "end_time": "2022-08-19T15:21:08.231499",
     "exception": false,
     "start_time": "2022-08-19T15:21:08.190114",
     "status": "completed"
    },
    "tags": []
   },
   "outputs": [
    {
     "data": {
      "text/html": [
       "<div>\n",
       "<style scoped>\n",
       "    .dataframe tbody tr th:only-of-type {\n",
       "        vertical-align: middle;\n",
       "    }\n",
       "\n",
       "    .dataframe tbody tr th {\n",
       "        vertical-align: top;\n",
       "    }\n",
       "\n",
       "    .dataframe thead th {\n",
       "        text-align: right;\n",
       "    }\n",
       "</style>\n",
       "<table border=\"1\" class=\"dataframe\">\n",
       "  <thead>\n",
       "    <tr style=\"text-align: right;\">\n",
       "      <th></th>\n",
       "      <th>winery</th>\n",
       "      <th>wine</th>\n",
       "      <th>year</th>\n",
       "      <th>rating</th>\n",
       "      <th>num_reviews</th>\n",
       "      <th>region</th>\n",
       "      <th>price</th>\n",
       "      <th>type</th>\n",
       "      <th>body</th>\n",
       "      <th>acidity</th>\n",
       "    </tr>\n",
       "  </thead>\n",
       "  <tbody>\n",
       "    <tr>\n",
       "      <th>0</th>\n",
       "      <td>1.280878</td>\n",
       "      <td>1.314818</td>\n",
       "      <td>-0.061449</td>\n",
       "      <td>5.153207</td>\n",
       "      <td>-0.534781</td>\n",
       "      <td>1.139664</td>\n",
       "      <td>5.715504</td>\n",
       "      <td>2.158801</td>\n",
       "      <td>1.442853</td>\n",
       "      <td>0.214745</td>\n",
       "    </tr>\n",
       "    <tr>\n",
       "      <th>1</th>\n",
       "      <td>-1.806417</td>\n",
       "      <td>1.548023</td>\n",
       "      <td>0.698440</td>\n",
       "      <td>5.153207</td>\n",
       "      <td>-0.572355</td>\n",
       "      <td>1.337266</td>\n",
       "      <td>1.524237</td>\n",
       "      <td>1.884046</td>\n",
       "      <td>-0.271398</td>\n",
       "      <td>-3.818247</td>\n",
       "    </tr>\n",
       "    <tr>\n",
       "      <th>2</th>\n",
       "      <td>1.498166</td>\n",
       "      <td>1.394207</td>\n",
       "      <td>-0.669360</td>\n",
       "      <td>4.348742</td>\n",
       "      <td>1.879645</td>\n",
       "      <td>0.349256</td>\n",
       "      <td>1.594655</td>\n",
       "      <td>-0.039245</td>\n",
       "      <td>1.442853</td>\n",
       "      <td>0.214745</td>\n",
       "    </tr>\n",
       "    <tr>\n",
       "      <th>3</th>\n",
       "      <td>1.498166</td>\n",
       "      <td>1.394207</td>\n",
       "      <td>-2.189137</td>\n",
       "      <td>4.348742</td>\n",
       "      <td>1.757184</td>\n",
       "      <td>0.349256</td>\n",
       "      <td>3.857939</td>\n",
       "      <td>-0.039245</td>\n",
       "      <td>1.442853</td>\n",
       "      <td>0.214745</td>\n",
       "    </tr>\n",
       "    <tr>\n",
       "      <th>4</th>\n",
       "      <td>1.498166</td>\n",
       "      <td>1.394207</td>\n",
       "      <td>-2.645070</td>\n",
       "      <td>4.348742</td>\n",
       "      <td>1.206110</td>\n",
       "      <td>0.349256</td>\n",
       "      <td>4.381310</td>\n",
       "      <td>-0.039245</td>\n",
       "      <td>1.442853</td>\n",
       "      <td>0.214745</td>\n",
       "    </tr>\n",
       "  </tbody>\n",
       "</table>\n",
       "</div>"
      ],
      "text/plain": [
       "     winery      wine      year    rating  num_reviews    region     price  \\\n",
       "0  1.280878  1.314818 -0.061449  5.153207    -0.534781  1.139664  5.715504   \n",
       "1 -1.806417  1.548023  0.698440  5.153207    -0.572355  1.337266  1.524237   \n",
       "2  1.498166  1.394207 -0.669360  4.348742     1.879645  0.349256  1.594655   \n",
       "3  1.498166  1.394207 -2.189137  4.348742     1.757184  0.349256  3.857939   \n",
       "4  1.498166  1.394207 -2.645070  4.348742     1.206110  0.349256  4.381310   \n",
       "\n",
       "       type      body   acidity  \n",
       "0  2.158801  1.442853  0.214745  \n",
       "1  1.884046 -0.271398 -3.818247  \n",
       "2 -0.039245  1.442853  0.214745  \n",
       "3 -0.039245  1.442853  0.214745  \n",
       "4 -0.039245  1.442853  0.214745  "
      ]
     },
     "execution_count": 21,
     "metadata": {},
     "output_type": "execute_result"
    }
   ],
   "source": [
    "df = (df-df.mean())/df.std()\n",
    "df.head()"
   ]
  },
  {
   "cell_type": "code",
   "execution_count": 22,
   "id": "20eb9bfc",
   "metadata": {
    "execution": {
     "iopub.execute_input": "2022-08-19T15:21:08.264949Z",
     "iopub.status.busy": "2022-08-19T15:21:08.264330Z",
     "iopub.status.idle": "2022-08-19T15:21:08.268519Z",
     "shell.execute_reply": "2022-08-19T15:21:08.267753Z"
    },
    "papermill": {
     "duration": 0.023149,
     "end_time": "2022-08-19T15:21:08.270467",
     "exception": false,
     "start_time": "2022-08-19T15:21:08.247318",
     "status": "completed"
    },
    "tags": []
   },
   "outputs": [],
   "source": [
    "# s = (df.dtypes == 'object')\n",
    "\n",
    "# obj_cols = list(s[s].index)"
   ]
  },
  {
   "cell_type": "code",
   "execution_count": 23,
   "id": "4be75c59",
   "metadata": {
    "execution": {
     "iopub.execute_input": "2022-08-19T15:21:08.304469Z",
     "iopub.status.busy": "2022-08-19T15:21:08.303395Z",
     "iopub.status.idle": "2022-08-19T15:21:08.307879Z",
     "shell.execute_reply": "2022-08-19T15:21:08.307174Z"
    },
    "papermill": {
     "duration": 0.023513,
     "end_time": "2022-08-19T15:21:08.309908",
     "exception": false,
     "start_time": "2022-08-19T15:21:08.286395",
     "status": "completed"
    },
    "tags": []
   },
   "outputs": [],
   "source": [
    "# OH_scale = OrdinalEncoder()\n",
    "\n",
    "# X[obj_cols] = OH_scale.fit_transform(X[obj_cols])"
   ]
  },
  {
   "cell_type": "code",
   "execution_count": 24,
   "id": "39b5cf33",
   "metadata": {
    "execution": {
     "iopub.execute_input": "2022-08-19T15:21:08.343824Z",
     "iopub.status.busy": "2022-08-19T15:21:08.343049Z",
     "iopub.status.idle": "2022-08-19T15:21:08.347873Z",
     "shell.execute_reply": "2022-08-19T15:21:08.346856Z"
    },
    "papermill": {
     "duration": 0.024046,
     "end_time": "2022-08-19T15:21:08.349867",
     "exception": false,
     "start_time": "2022-08-19T15:21:08.325821",
     "status": "completed"
    },
    "tags": []
   },
   "outputs": [],
   "source": [
    "# scaler = MinMaxScaler()\n",
    "\n",
    "# X_train = pd.DataFrame(scaler.fit_transform(X[['winery', 'wine', 'year', 'num_reviews', 'country', 'region', 'type', 'body', 'acidity']]))\n",
    "\n",
    "# scaler = StandardScaler()\n",
    "# scaler.fit(X)\n",
    "# X_train = scaler.transform(X)"
   ]
  },
  {
   "cell_type": "code",
   "execution_count": 25,
   "id": "08c2905b",
   "metadata": {
    "execution": {
     "iopub.execute_input": "2022-08-19T15:21:08.383767Z",
     "iopub.status.busy": "2022-08-19T15:21:08.382681Z",
     "iopub.status.idle": "2022-08-19T15:21:08.402703Z",
     "shell.execute_reply": "2022-08-19T15:21:08.401779Z"
    },
    "papermill": {
     "duration": 0.038879,
     "end_time": "2022-08-19T15:21:08.404776",
     "exception": false,
     "start_time": "2022-08-19T15:21:08.365897",
     "status": "completed"
    },
    "tags": []
   },
   "outputs": [
    {
     "data": {
      "text/html": [
       "<div>\n",
       "<style scoped>\n",
       "    .dataframe tbody tr th:only-of-type {\n",
       "        vertical-align: middle;\n",
       "    }\n",
       "\n",
       "    .dataframe tbody tr th {\n",
       "        vertical-align: top;\n",
       "    }\n",
       "\n",
       "    .dataframe thead th {\n",
       "        text-align: right;\n",
       "    }\n",
       "</style>\n",
       "<table border=\"1\" class=\"dataframe\">\n",
       "  <thead>\n",
       "    <tr style=\"text-align: right;\">\n",
       "      <th></th>\n",
       "      <th>winery</th>\n",
       "      <th>wine</th>\n",
       "      <th>year</th>\n",
       "      <th>rating</th>\n",
       "      <th>num_reviews</th>\n",
       "      <th>region</th>\n",
       "      <th>price</th>\n",
       "      <th>type</th>\n",
       "      <th>body</th>\n",
       "      <th>acidity</th>\n",
       "    </tr>\n",
       "  </thead>\n",
       "  <tbody>\n",
       "    <tr>\n",
       "      <th>0</th>\n",
       "      <td>1.280878</td>\n",
       "      <td>1.314818</td>\n",
       "      <td>-0.061449</td>\n",
       "      <td>5.153207</td>\n",
       "      <td>-0.534781</td>\n",
       "      <td>1.139664</td>\n",
       "      <td>5.715504</td>\n",
       "      <td>2.158801</td>\n",
       "      <td>1.442853</td>\n",
       "      <td>0.214745</td>\n",
       "    </tr>\n",
       "    <tr>\n",
       "      <th>1</th>\n",
       "      <td>-1.806417</td>\n",
       "      <td>1.548023</td>\n",
       "      <td>0.698440</td>\n",
       "      <td>5.153207</td>\n",
       "      <td>-0.572355</td>\n",
       "      <td>1.337266</td>\n",
       "      <td>1.524237</td>\n",
       "      <td>1.884046</td>\n",
       "      <td>-0.271398</td>\n",
       "      <td>-3.818247</td>\n",
       "    </tr>\n",
       "    <tr>\n",
       "      <th>2</th>\n",
       "      <td>1.498166</td>\n",
       "      <td>1.394207</td>\n",
       "      <td>-0.669360</td>\n",
       "      <td>4.348742</td>\n",
       "      <td>1.879645</td>\n",
       "      <td>0.349256</td>\n",
       "      <td>1.594655</td>\n",
       "      <td>-0.039245</td>\n",
       "      <td>1.442853</td>\n",
       "      <td>0.214745</td>\n",
       "    </tr>\n",
       "    <tr>\n",
       "      <th>3</th>\n",
       "      <td>1.498166</td>\n",
       "      <td>1.394207</td>\n",
       "      <td>-2.189137</td>\n",
       "      <td>4.348742</td>\n",
       "      <td>1.757184</td>\n",
       "      <td>0.349256</td>\n",
       "      <td>3.857939</td>\n",
       "      <td>-0.039245</td>\n",
       "      <td>1.442853</td>\n",
       "      <td>0.214745</td>\n",
       "    </tr>\n",
       "    <tr>\n",
       "      <th>4</th>\n",
       "      <td>1.498166</td>\n",
       "      <td>1.394207</td>\n",
       "      <td>-2.645070</td>\n",
       "      <td>4.348742</td>\n",
       "      <td>1.206110</td>\n",
       "      <td>0.349256</td>\n",
       "      <td>4.381310</td>\n",
       "      <td>-0.039245</td>\n",
       "      <td>1.442853</td>\n",
       "      <td>0.214745</td>\n",
       "    </tr>\n",
       "    <tr>\n",
       "      <th>...</th>\n",
       "      <td>...</td>\n",
       "      <td>...</td>\n",
       "      <td>...</td>\n",
       "      <td>...</td>\n",
       "      <td>...</td>\n",
       "      <td>...</td>\n",
       "      <td>...</td>\n",
       "      <td>...</td>\n",
       "      <td>...</td>\n",
       "      <td>...</td>\n",
       "    </tr>\n",
       "    <tr>\n",
       "      <th>7495</th>\n",
       "      <td>-0.801462</td>\n",
       "      <td>0.684667</td>\n",
       "      <td>0.394484</td>\n",
       "      <td>-0.478053</td>\n",
       "      <td>-0.069987</td>\n",
       "      <td>0.480991</td>\n",
       "      <td>-0.280929</td>\n",
       "      <td>0.235511</td>\n",
       "      <td>-0.271398</td>\n",
       "      <td>0.214745</td>\n",
       "    </tr>\n",
       "    <tr>\n",
       "      <th>7496</th>\n",
       "      <td>-0.810516</td>\n",
       "      <td>-0.084415</td>\n",
       "      <td>0.698440</td>\n",
       "      <td>-0.478053</td>\n",
       "      <td>-0.072770</td>\n",
       "      <td>0.151654</td>\n",
       "      <td>-0.300732</td>\n",
       "      <td>-0.588756</td>\n",
       "      <td>-0.271398</td>\n",
       "      <td>0.214745</td>\n",
       "    </tr>\n",
       "    <tr>\n",
       "      <th>7497</th>\n",
       "      <td>0.574693</td>\n",
       "      <td>-0.635177</td>\n",
       "      <td>0.546462</td>\n",
       "      <td>-0.478053</td>\n",
       "      <td>-0.072770</td>\n",
       "      <td>-1.429162</td>\n",
       "      <td>-0.253438</td>\n",
       "      <td>-0.314000</td>\n",
       "      <td>-0.271398</td>\n",
       "      <td>0.214745</td>\n",
       "    </tr>\n",
       "    <tr>\n",
       "      <th>7498</th>\n",
       "      <td>0.429835</td>\n",
       "      <td>-0.491284</td>\n",
       "      <td>-0.365404</td>\n",
       "      <td>-0.478053</td>\n",
       "      <td>-0.074162</td>\n",
       "      <td>0.349256</td>\n",
       "      <td>-0.007128</td>\n",
       "      <td>-0.039245</td>\n",
       "      <td>1.442853</td>\n",
       "      <td>0.214745</td>\n",
       "    </tr>\n",
       "    <tr>\n",
       "      <th>7499</th>\n",
       "      <td>1.154127</td>\n",
       "      <td>0.585430</td>\n",
       "      <td>0.394484</td>\n",
       "      <td>-0.478053</td>\n",
       "      <td>-0.075553</td>\n",
       "      <td>0.349256</td>\n",
       "      <td>-0.209281</td>\n",
       "      <td>-0.039245</td>\n",
       "      <td>1.442853</td>\n",
       "      <td>0.214745</td>\n",
       "    </tr>\n",
       "  </tbody>\n",
       "</table>\n",
       "<p>6329 rows × 10 columns</p>\n",
       "</div>"
      ],
      "text/plain": [
       "        winery      wine      year    rating  num_reviews    region     price  \\\n",
       "0     1.280878  1.314818 -0.061449  5.153207    -0.534781  1.139664  5.715504   \n",
       "1    -1.806417  1.548023  0.698440  5.153207    -0.572355  1.337266  1.524237   \n",
       "2     1.498166  1.394207 -0.669360  4.348742     1.879645  0.349256  1.594655   \n",
       "3     1.498166  1.394207 -2.189137  4.348742     1.757184  0.349256  3.857939   \n",
       "4     1.498166  1.394207 -2.645070  4.348742     1.206110  0.349256  4.381310   \n",
       "...        ...       ...       ...       ...          ...       ...       ...   \n",
       "7495 -0.801462  0.684667  0.394484 -0.478053    -0.069987  0.480991 -0.280929   \n",
       "7496 -0.810516 -0.084415  0.698440 -0.478053    -0.072770  0.151654 -0.300732   \n",
       "7497  0.574693 -0.635177  0.546462 -0.478053    -0.072770 -1.429162 -0.253438   \n",
       "7498  0.429835 -0.491284 -0.365404 -0.478053    -0.074162  0.349256 -0.007128   \n",
       "7499  1.154127  0.585430  0.394484 -0.478053    -0.075553  0.349256 -0.209281   \n",
       "\n",
       "          type      body   acidity  \n",
       "0     2.158801  1.442853  0.214745  \n",
       "1     1.884046 -0.271398 -3.818247  \n",
       "2    -0.039245  1.442853  0.214745  \n",
       "3    -0.039245  1.442853  0.214745  \n",
       "4    -0.039245  1.442853  0.214745  \n",
       "...        ...       ...       ...  \n",
       "7495  0.235511 -0.271398  0.214745  \n",
       "7496 -0.588756 -0.271398  0.214745  \n",
       "7497 -0.314000 -0.271398  0.214745  \n",
       "7498 -0.039245  1.442853  0.214745  \n",
       "7499 -0.039245  1.442853  0.214745  \n",
       "\n",
       "[6329 rows x 10 columns]"
      ]
     },
     "execution_count": 25,
     "metadata": {},
     "output_type": "execute_result"
    }
   ],
   "source": [
    "df"
   ]
  },
  {
   "cell_type": "code",
   "execution_count": 26,
   "id": "2d6bc393",
   "metadata": {
    "execution": {
     "iopub.execute_input": "2022-08-19T15:21:08.438887Z",
     "iopub.status.busy": "2022-08-19T15:21:08.438168Z",
     "iopub.status.idle": "2022-08-19T15:21:08.894943Z",
     "shell.execute_reply": "2022-08-19T15:21:08.894068Z"
    },
    "papermill": {
     "duration": 0.476465,
     "end_time": "2022-08-19T15:21:08.897295",
     "exception": false,
     "start_time": "2022-08-19T15:21:08.420830",
     "status": "completed"
    },
    "tags": []
   },
   "outputs": [
    {
     "data": {
      "text/plain": [
       "<seaborn.axisgrid.FacetGrid at 0x7fb33a035450>"
      ]
     },
     "execution_count": 26,
     "metadata": {},
     "output_type": "execute_result"
    },
    {
     "data": {
      "image/png": "[encoded data removed]",
      "text/plain": [
       "<Figure size 432x432 with 1 Axes>"
      ]
     },
     "metadata": {},
     "output_type": "display_data"
    }
   ],
   "source": [
    "sns.relplot(x='rating',y='type',hue='region',size='num_reviews', sizes=(40, 400), alpha=.5, palette=\"muted\",height=6,data=df, legend=False)"
   ]
  },
  {
   "cell_type": "code",
   "execution_count": 27,
   "id": "0a912f50",
   "metadata": {
    "execution": {
     "iopub.execute_input": "2022-08-19T15:21:08.935852Z",
     "iopub.status.busy": "2022-08-19T15:21:08.935147Z",
     "iopub.status.idle": "2022-08-19T15:21:08.939871Z",
     "shell.execute_reply": "2022-08-19T15:21:08.939061Z"
    },
    "papermill": {
     "duration": 0.026597,
     "end_time": "2022-08-19T15:21:08.942071",
     "exception": false,
     "start_time": "2022-08-19T15:21:08.915474",
     "status": "completed"
    },
    "tags": []
   },
   "outputs": [],
   "source": [
    "# df = df.reset_index()"
   ]
  },
  {
   "cell_type": "code",
   "execution_count": 28,
   "id": "37d22c9a",
   "metadata": {
    "execution": {
     "iopub.execute_input": "2022-08-19T15:21:08.980655Z",
     "iopub.status.busy": "2022-08-19T15:21:08.979717Z",
     "iopub.status.idle": "2022-08-19T15:21:08.985423Z",
     "shell.execute_reply": "2022-08-19T15:21:08.984623Z"
    },
    "papermill": {
     "duration": 0.027054,
     "end_time": "2022-08-19T15:21:08.987506",
     "exception": false,
     "start_time": "2022-08-19T15:21:08.960452",
     "status": "completed"
    },
    "tags": []
   },
   "outputs": [],
   "source": [
    "# df.wine.unique()"
   ]
  },
  {
   "cell_type": "markdown",
   "id": "16539670",
   "metadata": {
    "papermill": {
     "duration": 0.016711,
     "end_time": "2022-08-19T15:21:09.020962",
     "exception": false,
     "start_time": "2022-08-19T15:21:09.004251",
     "status": "completed"
    },
    "tags": []
   },
   "source": [
    "# Modeling"
   ]
  },
  {
   "cell_type": "code",
   "execution_count": 29,
   "id": "b3c0b1d8",
   "metadata": {
    "execution": {
     "iopub.execute_input": "2022-08-19T15:21:09.056318Z",
     "iopub.status.busy": "2022-08-19T15:21:09.055901Z",
     "iopub.status.idle": "2022-08-19T15:21:09.062576Z",
     "shell.execute_reply": "2022-08-19T15:21:09.061833Z"
    },
    "papermill": {
     "duration": 0.026839,
     "end_time": "2022-08-19T15:21:09.064610",
     "exception": false,
     "start_time": "2022-08-19T15:21:09.037771",
     "status": "completed"
    },
    "tags": []
   },
   "outputs": [],
   "source": [
    "X = df.drop(['price'], axis=1)\n",
    "y = df['price']"
   ]
  },
  {
   "cell_type": "code",
   "execution_count": 30,
   "id": "0a87a4e0",
   "metadata": {
    "execution": {
     "iopub.execute_input": "2022-08-19T15:21:09.100165Z",
     "iopub.status.busy": "2022-08-19T15:21:09.099442Z",
     "iopub.status.idle": "2022-08-19T15:21:09.107953Z",
     "shell.execute_reply": "2022-08-19T15:21:09.107199Z"
    },
    "papermill": {
     "duration": 0.02871,
     "end_time": "2022-08-19T15:21:09.110009",
     "exception": false,
     "start_time": "2022-08-19T15:21:09.081299",
     "status": "completed"
    },
    "tags": []
   },
   "outputs": [
    {
     "data": {
      "text/plain": [
       "winery         0\n",
       "wine           0\n",
       "year           0\n",
       "rating         0\n",
       "num_reviews    0\n",
       "region         0\n",
       "type           0\n",
       "body           0\n",
       "acidity        0\n",
       "dtype: int64"
      ]
     },
     "execution_count": 30,
     "metadata": {},
     "output_type": "execute_result"
    }
   ],
   "source": [
    "X.isna().sum()"
   ]
  },
  {
   "cell_type": "code",
   "execution_count": 31,
   "id": "fd932918",
   "metadata": {
    "execution": {
     "iopub.execute_input": "2022-08-19T15:21:09.146029Z",
     "iopub.status.busy": "2022-08-19T15:21:09.144927Z",
     "iopub.status.idle": "2022-08-19T15:21:09.149699Z",
     "shell.execute_reply": "2022-08-19T15:21:09.148963Z"
    },
    "papermill": {
     "duration": 0.024818,
     "end_time": "2022-08-19T15:21:09.151748",
     "exception": false,
     "start_time": "2022-08-19T15:21:09.126930",
     "status": "completed"
    },
    "tags": []
   },
   "outputs": [],
   "source": [
    "# X = X.drop(columns=['country'])"
   ]
  },
  {
   "cell_type": "markdown",
   "id": "cc973431",
   "metadata": {
    "papermill": {
     "duration": 0.016453,
     "end_time": "2022-08-19T15:21:09.185051",
     "exception": false,
     "start_time": "2022-08-19T15:21:09.168598",
     "status": "completed"
    },
    "tags": []
   },
   "source": [
    "> ## Spliting the Dataset"
   ]
  },
  {
   "cell_type": "code",
   "execution_count": 32,
   "id": "b37c805e",
   "metadata": {
    "execution": {
     "iopub.execute_input": "2022-08-19T15:21:09.220908Z",
     "iopub.status.busy": "2022-08-19T15:21:09.219783Z",
     "iopub.status.idle": "2022-08-19T15:21:09.226697Z",
     "shell.execute_reply": "2022-08-19T15:21:09.225980Z"
    },
    "papermill": {
     "duration": 0.026919,
     "end_time": "2022-08-19T15:21:09.228752",
     "exception": false,
     "start_time": "2022-08-19T15:21:09.201833",
     "status": "completed"
    },
    "tags": []
   },
   "outputs": [],
   "source": [
    "train_X, val_X, train_y, val_y = train_test_split(X, y, test_size=0.2)"
   ]
  },
  {
   "cell_type": "markdown",
   "id": "b6bc4291",
   "metadata": {
    "papermill": {
     "duration": 0.016563,
     "end_time": "2022-08-19T15:21:09.262051",
     "exception": false,
     "start_time": "2022-08-19T15:21:09.245488",
     "status": "completed"
    },
    "tags": []
   },
   "source": [
    "> ## Pipelining the models"
   ]
  },
  {
   "cell_type": "code",
   "execution_count": 33,
   "id": "9fdb242d",
   "metadata": {
    "execution": {
     "iopub.execute_input": "2022-08-19T15:21:09.297716Z",
     "iopub.status.busy": "2022-08-19T15:21:09.296991Z",
     "iopub.status.idle": "2022-08-19T15:21:09.301411Z",
     "shell.execute_reply": "2022-08-19T15:21:09.300677Z"
    },
    "papermill": {
     "duration": 0.024647,
     "end_time": "2022-08-19T15:21:09.303526",
     "exception": false,
     "start_time": "2022-08-19T15:21:09.278879",
     "status": "completed"
    },
    "tags": []
   },
   "outputs": [],
   "source": [
    "# pipeline_lor = Pipeline(steps=[\n",
    "#     ('scale', OH_scale),\n",
    "#     ('model', LogisticRegression(solver='lbfgs',max_iter = 100))\n",
    "# ])\n",
    "\n",
    "# pipeline_rf = Pipeline(steps=[\n",
    "#     ('scale', labenc),\n",
    "#     ('model', RandomForestRegressor(random_state=0))\n",
    "# ])"
   ]
  },
  {
   "cell_type": "code",
   "execution_count": 34,
   "id": "9c83bb32",
   "metadata": {
    "execution": {
     "iopub.execute_input": "2022-08-19T15:21:09.338992Z",
     "iopub.status.busy": "2022-08-19T15:21:09.338285Z",
     "iopub.status.idle": "2022-08-19T15:21:09.342698Z",
     "shell.execute_reply": "2022-08-19T15:21:09.341981Z"
    },
    "papermill": {
     "duration": 0.024504,
     "end_time": "2022-08-19T15:21:09.344720",
     "exception": false,
     "start_time": "2022-08-19T15:21:09.320216",
     "status": "completed"
    },
    "tags": []
   },
   "outputs": [],
   "source": [
    "# pipeline_rf.fit(train_X, train_y)"
   ]
  },
  {
   "cell_type": "code",
   "execution_count": 35,
   "id": "15fef575",
   "metadata": {
    "execution": {
     "iopub.execute_input": "2022-08-19T15:21:09.380318Z",
     "iopub.status.busy": "2022-08-19T15:21:09.379903Z",
     "iopub.status.idle": "2022-08-19T15:21:09.385536Z",
     "shell.execute_reply": "2022-08-19T15:21:09.384388Z"
    },
    "papermill": {
     "duration": 0.026183,
     "end_time": "2022-08-19T15:21:09.387664",
     "exception": false,
     "start_time": "2022-08-19T15:21:09.361481",
     "status": "completed"
    },
    "tags": []
   },
   "outputs": [],
   "source": [
    "models = {}\n",
    "def train_validate_predict(regressor,train_X, train_y, val_X, val_y, index):\n",
    "    model = regressor\n",
    "    model.fit(train_X, train_y)\n",
    "    \n",
    "    y_pred = model.predict(val_X)\n",
    "\n",
    "    r2 = r2_score(val_y, y_pred)\n",
    "    models[index] = r2"
   ]
  },
  {
   "cell_type": "code",
   "execution_count": 36,
   "id": "d8ae3954",
   "metadata": {
    "execution": {
     "iopub.execute_input": "2022-08-19T15:21:09.423679Z",
     "iopub.status.busy": "2022-08-19T15:21:09.422583Z",
     "iopub.status.idle": "2022-08-19T15:21:10.761193Z",
     "shell.execute_reply": "2022-08-19T15:21:10.760199Z"
    },
    "papermill": {
     "duration": 1.359343,
     "end_time": "2022-08-19T15:21:10.763867",
     "exception": false,
     "start_time": "2022-08-19T15:21:09.404524",
     "status": "completed"
    },
    "tags": []
   },
   "outputs": [
    {
     "name": "stderr",
     "output_type": "stream",
     "text": [
      "/opt/conda/lib/python3.7/site-packages/sklearn/svm/_base.py:1208: ConvergenceWarning: Liblinear failed to converge, increase the number of iterations.\n",
      "  ConvergenceWarning,\n"
     ]
    }
   ],
   "source": [
    "model_list = [Lasso, Ridge, BayesianRidge, DecisionTreeRegressor, LinearSVR, KNeighborsRegressor,\n",
    "              RandomForestRegressor]\n",
    "model_names = ['Lasso', 'Ridge', 'Bayesian Ridge', 'Decision Tree Regressor', 'Linear SVR', \n",
    "               'KNeighbors Regressor', 'Random Forest Regressor']\n",
    "\n",
    "index = 0\n",
    "for regressor in model_list:\n",
    "    train_validate_predict(regressor(),train_X, train_y ,val_X, val_y, model_names[index])\n",
    "    index+=1"
   ]
  },
  {
   "cell_type": "code",
   "execution_count": 37,
   "id": "923d6b21",
   "metadata": {
    "execution": {
     "iopub.execute_input": "2022-08-19T15:21:10.827791Z",
     "iopub.status.busy": "2022-08-19T15:21:10.827152Z",
     "iopub.status.idle": "2022-08-19T15:21:10.833896Z",
     "shell.execute_reply": "2022-08-19T15:21:10.833031Z"
    },
    "papermill": {
     "duration": 0.053186,
     "end_time": "2022-08-19T15:21:10.836025",
     "exception": false,
     "start_time": "2022-08-19T15:21:10.782839",
     "status": "completed"
    },
    "tags": []
   },
   "outputs": [
    {
     "data": {
      "text/plain": [
       "{'Lasso': -0.0014325966292030312,\n",
       " 'Ridge': 0.3332745102417698,\n",
       " 'Bayesian Ridge': 0.3338193750537626,\n",
       " 'Decision Tree Regressor': 0.07983945126285263,\n",
       " 'Linear SVR': 0.2057028220270729,\n",
       " 'KNeighbors Regressor': 0.341166587465462,\n",
       " 'Random Forest Regressor': 0.5086531189639238}"
      ]
     },
     "execution_count": 37,
     "metadata": {},
     "output_type": "execute_result"
    }
   ],
   "source": [
    "models"
   ]
  },
  {
   "cell_type": "code",
   "execution_count": 38,
   "id": "bebf9f60",
   "metadata": {
    "execution": {
     "iopub.execute_input": "2022-08-19T15:21:10.874804Z",
     "iopub.status.busy": "2022-08-19T15:21:10.874114Z",
     "iopub.status.idle": "2022-08-19T15:21:11.704478Z",
     "shell.execute_reply": "2022-08-19T15:21:11.703337Z"
    },
    "papermill": {
     "duration": 0.852662,
     "end_time": "2022-08-19T15:21:11.707315",
     "exception": false,
     "start_time": "2022-08-19T15:21:10.854653",
     "status": "completed"
    },
    "tags": []
   },
   "outputs": [],
   "source": [
    "model = RandomForestRegressor()\n",
    "model.fit(train_X, train_y)\n",
    "    \n",
    "y_pred = model.predict(val_X)\n",
    "preds = pd.DataFrame({'y_pred': y_pred, 'y_test':val_y})\n",
    "preds = preds.sort_values(by='y_test')\n",
    "preds = preds.reset_index()"
   ]
  },
  {
   "cell_type": "code",
   "execution_count": 39,
   "id": "89484eca",
   "metadata": {
    "execution": {
     "iopub.execute_input": "2022-08-19T15:21:11.746308Z",
     "iopub.status.busy": "2022-08-19T15:21:11.745881Z",
     "iopub.status.idle": "2022-08-19T15:21:12.012071Z",
     "shell.execute_reply": "2022-08-19T15:21:12.011198Z"
    },
    "papermill": {
     "duration": 0.288157,
     "end_time": "2022-08-19T15:21:12.014109",
     "exception": false,
     "start_time": "2022-08-19T15:21:11.725952",
     "status": "completed"
    },
    "tags": []
   },
   "outputs": [
    {
     "data": {
      "image/png": "[encoded data removed]",
      "text/plain": [
       "<Figure size 1080x360 with 1 Axes>"
      ]
     },
     "metadata": {},
     "output_type": "display_data"
    }
   ],
   "source": [
    "plt.figure(figsize=(15, 5))\n",
    "plt.plot(preds['y_pred'], label='pred')\n",
    "plt.plot(preds['y_test'], label='actual')\n",
    "plt.legend()\n",
    "plt.show()"
   ]
  },
  {
   "cell_type": "code",
   "execution_count": 40,
   "id": "2eccade5",
   "metadata": {
    "execution": {
     "iopub.execute_input": "2022-08-19T15:21:12.051412Z",
     "iopub.status.busy": "2022-08-19T15:21:12.050865Z",
     "iopub.status.idle": "2022-08-19T15:21:12.056122Z",
     "shell.execute_reply": "2022-08-19T15:21:12.055370Z"
    },
    "papermill": {
     "duration": 0.027152,
     "end_time": "2022-08-19T15:21:12.059220",
     "exception": false,
     "start_time": "2022-08-19T15:21:12.032068",
     "status": "completed"
    },
    "tags": []
   },
   "outputs": [
    {
     "name": "stdout",
     "output_type": "stream",
     "text": [
      "Error 0.3390353242425065\n"
     ]
    }
   ],
   "source": [
    "print('Error',mean_squared_error(y_pred, val_y))"
   ]
  },
  {
   "cell_type": "markdown",
   "id": "c9762c29",
   "metadata": {
    "papermill": {
     "duration": 0.017278,
     "end_time": "2022-08-19T15:21:12.094008",
     "exception": false,
     "start_time": "2022-08-19T15:21:12.076730",
     "status": "completed"
    },
    "tags": []
   },
   "source": [
    "## Using SMOTE[Synthetic Minority Over-sampling Technique]\n",
    "This Technique is use to balance the dataset."
   ]
  },
  {
   "cell_type": "code",
   "execution_count": 41,
   "id": "00628fe9",
   "metadata": {
    "execution": {
     "iopub.execute_input": "2022-08-19T15:21:12.130401Z",
     "iopub.status.busy": "2022-08-19T15:21:12.130015Z",
     "iopub.status.idle": "2022-08-19T15:21:12.133833Z",
     "shell.execute_reply": "2022-08-19T15:21:12.133083Z"
    },
    "papermill": {
     "duration": 0.024345,
     "end_time": "2022-08-19T15:21:12.135649",
     "exception": false,
     "start_time": "2022-08-19T15:21:12.111304",
     "status": "completed"
    },
    "tags": []
   },
   "outputs": [],
   "source": [
    "## WILL LATER COME BACK WITH MORE PREPERATION "
   ]
  },
  {
   "cell_type": "markdown",
   "id": "6bed129b",
   "metadata": {
    "papermill": {
     "duration": 0.017388,
     "end_time": "2022-08-19T15:21:12.170588",
     "exception": false,
     "start_time": "2022-08-19T15:21:12.153200",
     "status": "completed"
    },
    "tags": []
   },
   "source": [
    "# --Fucking Hell this took all day--"
   ]
  }
 ],
 "metadata": {
  "kernelspec": {
   "display_name": "Python 3",
   "language": "python",
   "name": "python3"
  },
  "language_info": {
   "codemirror_mode": {
    "name": "ipython",
    "version": 3
   },
   "file_extension": ".py",
   "mimetype": "text/x-python",
   "name": "python",
   "nbconvert_exporter": "python",
   "pygments_lexer": "ipython3",
   "version": "3.7.12"
  },
  "papermill": {
   "default_parameters": {},
   "duration": 21.018392,
   "end_time": "2022-08-19T15:21:12.909856",
   "environment_variables": {},
   "exception": null,
   "input_path": "__notebook__.ipynb",
   "output_path": "__notebook__.ipynb",
   "parameters": {},
   "start_time": "2022-08-19T15:20:51.891464",
   "version": "2.3.4"
  }
 },
 "nbformat": 4,
 "nbformat_minor": 5
}
